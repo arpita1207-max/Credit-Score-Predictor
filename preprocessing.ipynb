{
  "cells": [
    {
      "cell_type": "code",
      "execution_count": 1,
      "metadata": {
        "id": "in4t4xwW_6EY"
      },
      "outputs": [],
      "source": [
        "import pandas as pd\n",
        "import numpy as np\n",
        "import matplotlib.pyplot as plt\n",
        "import seaborn as sns"
      ]
    },
    {
      "cell_type": "code",
      "execution_count": 4,
      "metadata": {
        "colab": {
          "base_uri": "https://localhost:8080/"
        },
        "id": "vZA3hPbuAAy8",
        "outputId": "1dcd9ae1-e085-46c8-b716-7b556a4ccf51"
      },
      "outputs": [
        {
          "output_type": "stream",
          "name": "stderr",
          "text": [
            "<ipython-input-4-978d5ca17010>:1: DtypeWarning: Columns (23) have mixed types. Specify dtype option on import or set low_memory=False.\n",
            "  data=pd.read_csv('/content/data.csv')\n"
          ]
        }
      ],
      "source": [
        "data=pd.read_csv('/content/data.csv')\n",
        "data.drop(columns='Unnamed: 0',inplace=True)"
      ]
    },
    {
      "cell_type": "code",
      "execution_count": 5,
      "metadata": {
        "colab": {
          "base_uri": "https://localhost:8080/"
        },
        "id": "c6yJbXAGBNNH",
        "outputId": "03757482-0753-4329-92e7-595bc98b9c9e"
      },
      "outputs": [
        {
          "output_type": "execute_result",
          "data": {
            "text/plain": [
              "(150000, 23)"
            ]
          },
          "metadata": {},
          "execution_count": 5
        }
      ],
      "source": [
        "data.shape\n"
      ]
    },
    {
      "cell_type": "code",
      "execution_count": 6,
      "metadata": {
        "id": "N7lidFR9BQ3B"
      },
      "outputs": [],
      "source": [
        "mapping={'Standard':1,'Poor':0,'Good':2}\n",
        "data['Credit_Score']=data['Credit_Score'].map(mapping)\n"
      ]
    },
    {
      "cell_type": "code",
      "execution_count": 7,
      "metadata": {
        "colab": {
          "base_uri": "https://localhost:8080/"
        },
        "id": "qhdG3J2UBT9K",
        "outputId": "66c1d204-cbc3-40b6-9bb3-7c76b8d4605d"
      },
      "outputs": [
        {
          "output_type": "execute_result",
          "data": {
            "text/plain": [
              "1.0    53174\n",
              "0.0    28998\n",
              "2.0    17828\n",
              "Name: Credit_Score, dtype: int64"
            ]
          },
          "metadata": {},
          "execution_count": 7
        }
      ],
      "source": [
        "data['Credit_Score'].value_counts()"
      ]
    },
    {
      "cell_type": "code",
      "execution_count": 8,
      "metadata": {
        "colab": {
          "base_uri": "https://localhost:8080/",
          "height": 35
        },
        "id": "8EkiqYtDBWf5",
        "outputId": "744bf032-7714-4887-8334-1f58236dd065"
      },
      "outputs": [
        {
          "output_type": "execute_result",
          "data": {
            "text/plain": [
              "'Occupation'"
            ],
            "application/vnd.google.colaboratory.intrinsic+json": {
              "type": "string"
            }
          },
          "metadata": {},
          "execution_count": 8
        }
      ],
      "source": [
        "num_cols=data.select_dtypes(exclude='O').columns\n",
        "num_cols\n",
        "cat_cols=data.select_dtypes(include='O').columns\n",
        "cat_cols[-1]"
      ]
    },
    {
      "cell_type": "code",
      "execution_count": 12,
      "metadata": {
        "id": "h7Lxg40eBZQG"
      },
      "outputs": [],
      "source": [
        "from sklearn.model_selection import train_test_split\n",
        "def traintest_split(data):\n",
        "\n",
        "    x=data[~data['Credit_Score'].isna()].drop(columns='Credit_Score')\n",
        "    y=data['Credit_Score'][~data['Credit_Score'].isna()]\n",
        "    x_train,x_test,y_train,y_test=train_test_split(x,y,test_size=0.2,random_state=2)\n",
        "    x_test1=data[data['Credit_Score'].isna()].drop(columns='Credit_Score')\n",
        "    y_test1=data['Credit_Score'][data['Credit_Score'].isna()]\n",
        "    print(f\"x_train: {x_train.shape} \",f\"x_test: {x_test.shape}\")\n",
        "    print(f\"y_train: {y_train.shape} \",f\"y_test: {y_test.shape}\")\n",
        "    print(f\"x_test1: {x_test1.shape} \",f\"y_test1: {y_test1.shape}\")\n",
        "    return (x_train,x_test,y_train,y_test,x_test1,y_test1)"
      ]
    },
    {
      "cell_type": "code",
      "execution_count": 13,
      "metadata": {
        "colab": {
          "base_uri": "https://localhost:8080/"
        },
        "id": "12ktgz_XBdRc",
        "outputId": "7c51ab53-fdec-402b-e01f-ee512c00d503"
      },
      "outputs": [
        {
          "output_type": "stream",
          "name": "stdout",
          "text": [
            "x_train: (80000, 22)  x_test: (20000, 22)\n",
            "y_train: (80000,)  y_test: (20000,)\n",
            "x_test1: (50000, 22)  y_test1: (50000,)\n"
          ]
        }
      ],
      "source": [
        "x_train,x_test,y_train,y_test,x_test1,y_test1=traintest_split(data)"
      ]
    },
    {
      "cell_type": "code",
      "execution_count": 14,
      "metadata": {
        "colab": {
          "base_uri": "https://localhost:8080/"
        },
        "id": "tI9PnQMhjGwb",
        "outputId": "7cfbb403-c7ee-46ab-96bb-2d9961c12f5e"
      },
      "outputs": [
        {
          "output_type": "execute_result",
          "data": {
            "text/plain": [
              "1.0    10620\n",
              "0.0     5824\n",
              "2.0     3556\n",
              "Name: Credit_Score, dtype: int64"
            ]
          },
          "metadata": {},
          "execution_count": 14
        }
      ],
      "source": [
        "y_test.value_counts(dropna=False)"
      ]
    },
    {
      "cell_type": "code",
      "execution_count": 15,
      "metadata": {
        "colab": {
          "base_uri": "https://localhost:8080/"
        },
        "id": "X6S4bULOTXh4",
        "outputId": "6bba65c5-bdfe-4a32-ab4d-171d6e660eee"
      },
      "outputs": [
        {
          "output_type": "execute_result",
          "data": {
            "text/plain": [
              "Index(['Customer_ID', 'Month', 'Age', 'Annual_Income', 'Monthly_Inhand_Salary',\n",
              "       'Num_Bank_Accounts', 'Num_Credit_Card', 'Interest_Rate', 'Num_of_Loan',\n",
              "       'Delay_from_due_date', 'Num_of_Delayed_Payment', 'Changed_Credit_Limit',\n",
              "       'Num_Credit_Inquiries', 'Outstanding_Debt', 'Credit_Utilization_Ratio',\n",
              "       'Credit_History_Age', 'Payment_of_Min_Amount', 'Total_EMI_per_month',\n",
              "       'Amount_invested_monthly', 'Payment_Behaviour', 'Monthly_Balance',\n",
              "       'Credit_Score'],\n",
              "      dtype='object')"
            ]
          },
          "metadata": {},
          "execution_count": 15
        }
      ],
      "source": [
        "num_cols"
      ]
    },
    {
      "cell_type": "code",
      "execution_count": 27,
      "metadata": {
        "id": "yRWTz8VzBfWt"
      },
      "outputs": [],
      "source": [
        "from sklearn.compose import ColumnTransformer\n",
        "from sklearn.model_selection import GridSearchCV,KFold,RandomizedSearchCV\n",
        "from sklearn.model_selection import train_test_split\n",
        "from sklearn.linear_model import LogisticRegression\n",
        "from sklearn.ensemble import RandomForestClassifier,GradientBoostingClassifier\n",
        "import xgboost as xgb\n",
        "from sklearn.pipeline import Pipeline\n",
        "from sklearn.preprocessing import MinMaxScaler, OneHotEncoder,LabelEncoder,FunctionTransformer\n",
        "from sklearn.metrics import accuracy_score,confusion_matrix,classification_report\n",
        "preprocessor = ColumnTransformer(\n",
        "    transformers=[\n",
        "        ('num', MinMaxScaler(), num_cols[:-1]),  # Apply numerical pipeline to numerical features\n",
        "        #('le',LabelEncoder(),cat_cols[-1]),\n",
        "        ('ohe', OneHotEncoder(drop='first',sparse_output=False), [cat_cols[0]])\n",
        "           # Apply categorical pipeline to categorical features\n",
        "    ],remainder='passthrough',verbose_feature_names_out=False)\n",
        "\n",
        "\n",
        "x_train_trf=preprocessor.fit_transform(x_train)\n",
        "x_test_trf=preprocessor.transform(x_train)\n",
        "\n",
        "#x_train_trf.shape"
      ]
    },
    {
      "cell_type": "code",
      "execution_count": null,
      "metadata": {
        "colab": {
          "base_uri": "https://localhost:8080/",
          "height": 118
        },
        "id": "G9YkmLtBBxtX",
        "outputId": "172fe09c-9c30-40f8-8350-d3e3cb522ef0"
      },
      "outputs": [
        {
          "data": {
            "text/html": [
              "<style>#sk-container-id-3 {color: black;background-color: white;}#sk-container-id-3 pre{padding: 0;}#sk-container-id-3 div.sk-toggleable {background-color: white;}#sk-container-id-3 label.sk-toggleable__label {cursor: pointer;display: block;width: 100%;margin-bottom: 0;padding: 0.3em;box-sizing: border-box;text-align: center;}#sk-container-id-3 label.sk-toggleable__label-arrow:before {content: \"▸\";float: left;margin-right: 0.25em;color: #696969;}#sk-container-id-3 label.sk-toggleable__label-arrow:hover:before {color: black;}#sk-container-id-3 div.sk-estimator:hover label.sk-toggleable__label-arrow:before {color: black;}#sk-container-id-3 div.sk-toggleable__content {max-height: 0;max-width: 0;overflow: hidden;text-align: left;background-color: #f0f8ff;}#sk-container-id-3 div.sk-toggleable__content pre {margin: 0.2em;color: black;border-radius: 0.25em;background-color: #f0f8ff;}#sk-container-id-3 input.sk-toggleable__control:checked~div.sk-toggleable__content {max-height: 200px;max-width: 100%;overflow: auto;}#sk-container-id-3 input.sk-toggleable__control:checked~label.sk-toggleable__label-arrow:before {content: \"▾\";}#sk-container-id-3 div.sk-estimator input.sk-toggleable__control:checked~label.sk-toggleable__label {background-color: #d4ebff;}#sk-container-id-3 div.sk-label input.sk-toggleable__control:checked~label.sk-toggleable__label {background-color: #d4ebff;}#sk-container-id-3 input.sk-hidden--visually {border: 0;clip: rect(1px 1px 1px 1px);clip: rect(1px, 1px, 1px, 1px);height: 1px;margin: -1px;overflow: hidden;padding: 0;position: absolute;width: 1px;}#sk-container-id-3 div.sk-estimator {font-family: monospace;background-color: #f0f8ff;border: 1px dotted black;border-radius: 0.25em;box-sizing: border-box;margin-bottom: 0.5em;}#sk-container-id-3 div.sk-estimator:hover {background-color: #d4ebff;}#sk-container-id-3 div.sk-parallel-item::after {content: \"\";width: 100%;border-bottom: 1px solid gray;flex-grow: 1;}#sk-container-id-3 div.sk-label:hover label.sk-toggleable__label {background-color: #d4ebff;}#sk-container-id-3 div.sk-serial::before {content: \"\";position: absolute;border-left: 1px solid gray;box-sizing: border-box;top: 0;bottom: 0;left: 50%;z-index: 0;}#sk-container-id-3 div.sk-serial {display: flex;flex-direction: column;align-items: center;background-color: white;padding-right: 0.2em;padding-left: 0.2em;position: relative;}#sk-container-id-3 div.sk-item {position: relative;z-index: 1;}#sk-container-id-3 div.sk-parallel {display: flex;align-items: stretch;justify-content: center;background-color: white;position: relative;}#sk-container-id-3 div.sk-item::before, #sk-container-id-3 div.sk-parallel-item::before {content: \"\";position: absolute;border-left: 1px solid gray;box-sizing: border-box;top: 0;bottom: 0;left: 50%;z-index: -1;}#sk-container-id-3 div.sk-parallel-item {display: flex;flex-direction: column;z-index: 1;position: relative;background-color: white;}#sk-container-id-3 div.sk-parallel-item:first-child::after {align-self: flex-end;width: 50%;}#sk-container-id-3 div.sk-parallel-item:last-child::after {align-self: flex-start;width: 50%;}#sk-container-id-3 div.sk-parallel-item:only-child::after {width: 0;}#sk-container-id-3 div.sk-dashed-wrapped {border: 1px dashed gray;margin: 0 0.4em 0.5em 0.4em;box-sizing: border-box;padding-bottom: 0.4em;background-color: white;}#sk-container-id-3 div.sk-label label {font-family: monospace;font-weight: bold;display: inline-block;line-height: 1.2em;}#sk-container-id-3 div.sk-label-container {text-align: center;}#sk-container-id-3 div.sk-container {/* jupyter's `normalize.less` sets `[hidden] { display: none; }` but bootstrap.min.css set `[hidden] { display: none !important; }` so we also need the `!important` here to be able to override the default hidden behavior on the sphinx rendered scikit-learn.org. See: https://github.com/scikit-learn/scikit-learn/issues/21755 */display: inline-block !important;position: relative;}#sk-container-id-3 div.sk-text-repr-fallback {display: none;}</style><div id=\"sk-container-id-3\" class=\"sk-top-container\"><div class=\"sk-text-repr-fallback\"><pre>GridSearchCV(cv=3, estimator=RandomForestClassifier(), n_jobs=-1,\n",
              "             param_grid={&#x27;max_depth&#x27;: [3, 6, 9, 12, 15],\n",
              "                         &#x27;min_samples_leaf&#x27;: [1, 2, 3, 4],\n",
              "                         &#x27;n_estimators&#x27;: [50, 100, 150, 200]},\n",
              "             scoring=&#x27;accuracy&#x27;)</pre><b>In a Jupyter environment, please rerun this cell to show the HTML representation or trust the notebook. <br />On GitHub, the HTML representation is unable to render, please try loading this page with nbviewer.org.</b></div><div class=\"sk-container\" hidden><div class=\"sk-item sk-dashed-wrapped\"><div class=\"sk-label-container\"><div class=\"sk-label sk-toggleable\"><input class=\"sk-toggleable__control sk-hidden--visually\" id=\"sk-estimator-id-5\" type=\"checkbox\" ><label for=\"sk-estimator-id-5\" class=\"sk-toggleable__label sk-toggleable__label-arrow\">GridSearchCV</label><div class=\"sk-toggleable__content\"><pre>GridSearchCV(cv=3, estimator=RandomForestClassifier(), n_jobs=-1,\n",
              "             param_grid={&#x27;max_depth&#x27;: [3, 6, 9, 12, 15],\n",
              "                         &#x27;min_samples_leaf&#x27;: [1, 2, 3, 4],\n",
              "                         &#x27;n_estimators&#x27;: [50, 100, 150, 200]},\n",
              "             scoring=&#x27;accuracy&#x27;)</pre></div></div></div><div class=\"sk-parallel\"><div class=\"sk-parallel-item\"><div class=\"sk-item\"><div class=\"sk-label-container\"><div class=\"sk-label sk-toggleable\"><input class=\"sk-toggleable__control sk-hidden--visually\" id=\"sk-estimator-id-6\" type=\"checkbox\" ><label for=\"sk-estimator-id-6\" class=\"sk-toggleable__label sk-toggleable__label-arrow\">estimator: RandomForestClassifier</label><div class=\"sk-toggleable__content\"><pre>RandomForestClassifier()</pre></div></div></div><div class=\"sk-serial\"><div class=\"sk-item\"><div class=\"sk-estimator sk-toggleable\"><input class=\"sk-toggleable__control sk-hidden--visually\" id=\"sk-estimator-id-7\" type=\"checkbox\" ><label for=\"sk-estimator-id-7\" class=\"sk-toggleable__label sk-toggleable__label-arrow\">RandomForestClassifier</label><div class=\"sk-toggleable__content\"><pre>RandomForestClassifier()</pre></div></div></div></div></div></div></div></div></div></div>"
            ],
            "text/plain": [
              "GridSearchCV(cv=3, estimator=RandomForestClassifier(), n_jobs=-1,\n",
              "             param_grid={'max_depth': [3, 6, 9, 12, 15],\n",
              "                         'min_samples_leaf': [1, 2, 3, 4],\n",
              "                         'n_estimators': [50, 100, 150, 200]},\n",
              "             scoring='accuracy')"
            ]
          },
          "execution_count": 116,
          "metadata": {},
          "output_type": "execute_result"
        }
      ],
      "source": [
        "param_grids = {'n_estimators':[50,100,150,200],\n",
        "               'min_samples_leaf':[1,2,3,4],\n",
        "              'max_depth': [3, 6,9,12,15]\n",
        "               }\n",
        "\n",
        "gs = GridSearchCV(RandomForestClassifier(), param_grid=param_grids, cv=3, scoring='accuracy', n_jobs=-1)\n",
        "gs.fit(x_train_trf,y_train)\n",
        "\n"
      ]
    },
    {
      "cell_type": "code",
      "execution_count": null,
      "metadata": {
        "colab": {
          "base_uri": "https://localhost:8080/"
        },
        "id": "2QVLn4Aiiubx",
        "outputId": "157eaf06-2f15-4a0c-80c3-42293d404941"
      },
      "outputs": [
        {
          "data": {
            "text/plain": [
              "{'max_depth': 15, 'min_samples_leaf': 1, 'n_estimators': 200}"
            ]
          },
          "execution_count": 117,
          "metadata": {},
          "output_type": "execute_result"
        }
      ],
      "source": [
        "gs.best_params_"
      ]
    },
    {
      "cell_type": "code",
      "execution_count": null,
      "metadata": {
        "colab": {
          "base_uri": "https://localhost:8080/"
        },
        "id": "i1Cq1kVFmhS6",
        "outputId": "001d7ddf-fa88-414b-b141-b34d9cf1eae4"
      },
      "outputs": [
        {
          "data": {
            "text/plain": [
              "0.7466624880456826"
            ]
          },
          "execution_count": 118,
          "metadata": {},
          "output_type": "execute_result"
        }
      ],
      "source": [
        "gs.best_score_"
      ]
    },
    {
      "cell_type": "code",
      "execution_count": null,
      "metadata": {
        "id": "zn4GbXJ1uUSZ"
      },
      "outputs": [],
      "source": [
        "best_model=gs.best_estimator_"
      ]
    },
    {
      "cell_type": "code",
      "execution_count": null,
      "metadata": {
        "colab": {
          "base_uri": "https://localhost:8080/"
        },
        "id": "gfPlOgp8uqca",
        "outputId": "d3ca4f45-6996-45a0-b71c-86372198bc81"
      },
      "outputs": [
        {
          "data": {
            "text/plain": [
              "(3240, 35)"
            ]
          },
          "execution_count": 124,
          "metadata": {},
          "output_type": "execute_result"
        }
      ],
      "source": [
        "x_test_trf.shape"
      ]
    },
    {
      "cell_type": "code",
      "execution_count": null,
      "metadata": {
        "id": "eWKZ2Y6QubEJ"
      },
      "outputs": [],
      "source": [
        "y_pred=best_model.predict(x_test_trf)"
      ]
    },
    {
      "cell_type": "code",
      "execution_count": null,
      "metadata": {
        "id": "DrBT1vQNuiVM"
      },
      "outputs": [],
      "source": [
        "accuracy_score_rf=accuracy_score(y_test,y_pred)"
      ]
    },
    {
      "cell_type": "code",
      "execution_count": null,
      "metadata": {
        "colab": {
          "base_uri": "https://localhost:8080/"
        },
        "id": "x8XM8oFWw_hN",
        "outputId": "3ac2b6df-0ddb-4070-f71d-af024e4353a6"
      },
      "outputs": [
        {
          "data": {
            "text/plain": [
              "0.75525"
            ]
          },
          "execution_count": 132,
          "metadata": {},
          "output_type": "execute_result"
        }
      ],
      "source": [
        "accuracy_score_rf"
      ]
    },
    {
      "cell_type": "code",
      "execution_count": null,
      "metadata": {
        "colab": {
          "base_uri": "https://localhost:8080/",
          "height": 207
        },
        "id": "OagR89vPFC1M",
        "outputId": "64e084ad-880d-4f24-8ebb-1b2ec5f330da"
      },
      "outputs": [
        {
          "name": "stderr",
          "output_type": "stream",
          "text": [
            "/usr/local/lib/python3.10/dist-packages/xgboost/core.py:160: UserWarning: [09:17:56] WARNING: /workspace/src/learner.cc:742: \n",
            "Parameters: { \"criterion\", \"min_samples_leaf\" } are not used.\n",
            "\n",
            "  warnings.warn(smsg, UserWarning)\n"
          ]
        },
        {
          "data": {
            "text/html": [
              "<style>#sk-container-id-5 {color: black;background-color: white;}#sk-container-id-5 pre{padding: 0;}#sk-container-id-5 div.sk-toggleable {background-color: white;}#sk-container-id-5 label.sk-toggleable__label {cursor: pointer;display: block;width: 100%;margin-bottom: 0;padding: 0.3em;box-sizing: border-box;text-align: center;}#sk-container-id-5 label.sk-toggleable__label-arrow:before {content: \"▸\";float: left;margin-right: 0.25em;color: #696969;}#sk-container-id-5 label.sk-toggleable__label-arrow:hover:before {color: black;}#sk-container-id-5 div.sk-estimator:hover label.sk-toggleable__label-arrow:before {color: black;}#sk-container-id-5 div.sk-toggleable__content {max-height: 0;max-width: 0;overflow: hidden;text-align: left;background-color: #f0f8ff;}#sk-container-id-5 div.sk-toggleable__content pre {margin: 0.2em;color: black;border-radius: 0.25em;background-color: #f0f8ff;}#sk-container-id-5 input.sk-toggleable__control:checked~div.sk-toggleable__content {max-height: 200px;max-width: 100%;overflow: auto;}#sk-container-id-5 input.sk-toggleable__control:checked~label.sk-toggleable__label-arrow:before {content: \"▾\";}#sk-container-id-5 div.sk-estimator input.sk-toggleable__control:checked~label.sk-toggleable__label {background-color: #d4ebff;}#sk-container-id-5 div.sk-label input.sk-toggleable__control:checked~label.sk-toggleable__label {background-color: #d4ebff;}#sk-container-id-5 input.sk-hidden--visually {border: 0;clip: rect(1px 1px 1px 1px);clip: rect(1px, 1px, 1px, 1px);height: 1px;margin: -1px;overflow: hidden;padding: 0;position: absolute;width: 1px;}#sk-container-id-5 div.sk-estimator {font-family: monospace;background-color: #f0f8ff;border: 1px dotted black;border-radius: 0.25em;box-sizing: border-box;margin-bottom: 0.5em;}#sk-container-id-5 div.sk-estimator:hover {background-color: #d4ebff;}#sk-container-id-5 div.sk-parallel-item::after {content: \"\";width: 100%;border-bottom: 1px solid gray;flex-grow: 1;}#sk-container-id-5 div.sk-label:hover label.sk-toggleable__label {background-color: #d4ebff;}#sk-container-id-5 div.sk-serial::before {content: \"\";position: absolute;border-left: 1px solid gray;box-sizing: border-box;top: 0;bottom: 0;left: 50%;z-index: 0;}#sk-container-id-5 div.sk-serial {display: flex;flex-direction: column;align-items: center;background-color: white;padding-right: 0.2em;padding-left: 0.2em;position: relative;}#sk-container-id-5 div.sk-item {position: relative;z-index: 1;}#sk-container-id-5 div.sk-parallel {display: flex;align-items: stretch;justify-content: center;background-color: white;position: relative;}#sk-container-id-5 div.sk-item::before, #sk-container-id-5 div.sk-parallel-item::before {content: \"\";position: absolute;border-left: 1px solid gray;box-sizing: border-box;top: 0;bottom: 0;left: 50%;z-index: -1;}#sk-container-id-5 div.sk-parallel-item {display: flex;flex-direction: column;z-index: 1;position: relative;background-color: white;}#sk-container-id-5 div.sk-parallel-item:first-child::after {align-self: flex-end;width: 50%;}#sk-container-id-5 div.sk-parallel-item:last-child::after {align-self: flex-start;width: 50%;}#sk-container-id-5 div.sk-parallel-item:only-child::after {width: 0;}#sk-container-id-5 div.sk-dashed-wrapped {border: 1px dashed gray;margin: 0 0.4em 0.5em 0.4em;box-sizing: border-box;padding-bottom: 0.4em;background-color: white;}#sk-container-id-5 div.sk-label label {font-family: monospace;font-weight: bold;display: inline-block;line-height: 1.2em;}#sk-container-id-5 div.sk-label-container {text-align: center;}#sk-container-id-5 div.sk-container {/* jupyter's `normalize.less` sets `[hidden] { display: none; }` but bootstrap.min.css set `[hidden] { display: none !important; }` so we also need the `!important` here to be able to override the default hidden behavior on the sphinx rendered scikit-learn.org. See: https://github.com/scikit-learn/scikit-learn/issues/21755 */display: inline-block !important;position: relative;}#sk-container-id-5 div.sk-text-repr-fallback {display: none;}</style><div id=\"sk-container-id-5\" class=\"sk-top-container\"><div class=\"sk-text-repr-fallback\"><pre>RandomizedSearchCV(cv=KFold(n_splits=5, random_state=None, shuffle=False),\n",
              "                   estimator=XGBClassifier(base_score=None, booster=None,\n",
              "                                           callbacks=None,\n",
              "                                           colsample_bylevel=None,\n",
              "                                           colsample_bynode=None,\n",
              "                                           colsample_bytree=None, device=None,\n",
              "                                           early_stopping_rounds=None,\n",
              "                                           enable_categorical=False,\n",
              "                                           eval_metric=None, feature_types=None,\n",
              "                                           gamma=None, grow_policy=None,\n",
              "                                           importance_type...\n",
              "                                           max_leaves=None,\n",
              "                                           min_child_weight=None, missing=nan,\n",
              "                                           monotone_constraints=None,\n",
              "                                           multi_strategy=None,\n",
              "                                           n_estimators=None, n_jobs=None,\n",
              "                                           num_parallel_tree=None,\n",
              "                                           random_state=None, ...),\n",
              "                   n_jobs=-1,\n",
              "                   param_distributions={&#x27;criterion&#x27;: [&#x27;friedman_mse&#x27;, &#x27;mse&#x27;],\n",
              "                                        &#x27;max_depth&#x27;: [15, 20, 25, 30],\n",
              "                                        &#x27;min_samples_leaf&#x27;: [1, 3, 5, 7],\n",
              "                                        &#x27;n_estimators&#x27;: [50, 100, 150, 200]},\n",
              "                   random_state=42, scoring=&#x27;accuracy&#x27;)</pre><b>In a Jupyter environment, please rerun this cell to show the HTML representation or trust the notebook. <br />On GitHub, the HTML representation is unable to render, please try loading this page with nbviewer.org.</b></div><div class=\"sk-container\" hidden><div class=\"sk-item sk-dashed-wrapped\"><div class=\"sk-label-container\"><div class=\"sk-label sk-toggleable\"><input class=\"sk-toggleable__control sk-hidden--visually\" id=\"sk-estimator-id-11\" type=\"checkbox\" ><label for=\"sk-estimator-id-11\" class=\"sk-toggleable__label sk-toggleable__label-arrow\">RandomizedSearchCV</label><div class=\"sk-toggleable__content\"><pre>RandomizedSearchCV(cv=KFold(n_splits=5, random_state=None, shuffle=False),\n",
              "                   estimator=XGBClassifier(base_score=None, booster=None,\n",
              "                                           callbacks=None,\n",
              "                                           colsample_bylevel=None,\n",
              "                                           colsample_bynode=None,\n",
              "                                           colsample_bytree=None, device=None,\n",
              "                                           early_stopping_rounds=None,\n",
              "                                           enable_categorical=False,\n",
              "                                           eval_metric=None, feature_types=None,\n",
              "                                           gamma=None, grow_policy=None,\n",
              "                                           importance_type...\n",
              "                                           max_leaves=None,\n",
              "                                           min_child_weight=None, missing=nan,\n",
              "                                           monotone_constraints=None,\n",
              "                                           multi_strategy=None,\n",
              "                                           n_estimators=None, n_jobs=None,\n",
              "                                           num_parallel_tree=None,\n",
              "                                           random_state=None, ...),\n",
              "                   n_jobs=-1,\n",
              "                   param_distributions={&#x27;criterion&#x27;: [&#x27;friedman_mse&#x27;, &#x27;mse&#x27;],\n",
              "                                        &#x27;max_depth&#x27;: [15, 20, 25, 30],\n",
              "                                        &#x27;min_samples_leaf&#x27;: [1, 3, 5, 7],\n",
              "                                        &#x27;n_estimators&#x27;: [50, 100, 150, 200]},\n",
              "                   random_state=42, scoring=&#x27;accuracy&#x27;)</pre></div></div></div><div class=\"sk-parallel\"><div class=\"sk-parallel-item\"><div class=\"sk-item\"><div class=\"sk-label-container\"><div class=\"sk-label sk-toggleable\"><input class=\"sk-toggleable__control sk-hidden--visually\" id=\"sk-estimator-id-12\" type=\"checkbox\" ><label for=\"sk-estimator-id-12\" class=\"sk-toggleable__label sk-toggleable__label-arrow\">estimator: XGBClassifier</label><div class=\"sk-toggleable__content\"><pre>XGBClassifier(base_score=None, booster=None, callbacks=None,\n",
              "              colsample_bylevel=None, colsample_bynode=None,\n",
              "              colsample_bytree=None, device=None, early_stopping_rounds=None,\n",
              "              enable_categorical=False, eval_metric=None, feature_types=None,\n",
              "              gamma=None, grow_policy=None, importance_type=None,\n",
              "              interaction_constraints=None, learning_rate=None, max_bin=None,\n",
              "              max_cat_threshold=None, max_cat_to_onehot=None,\n",
              "              max_delta_step=None, max_depth=None, max_leaves=None,\n",
              "              min_child_weight=None, missing=nan, monotone_constraints=None,\n",
              "              multi_strategy=None, n_estimators=None, n_jobs=None,\n",
              "              num_parallel_tree=None, random_state=None, ...)</pre></div></div></div><div class=\"sk-serial\"><div class=\"sk-item\"><div class=\"sk-estimator sk-toggleable\"><input class=\"sk-toggleable__control sk-hidden--visually\" id=\"sk-estimator-id-13\" type=\"checkbox\" ><label for=\"sk-estimator-id-13\" class=\"sk-toggleable__label sk-toggleable__label-arrow\">XGBClassifier</label><div class=\"sk-toggleable__content\"><pre>XGBClassifier(base_score=None, booster=None, callbacks=None,\n",
              "              colsample_bylevel=None, colsample_bynode=None,\n",
              "              colsample_bytree=None, device=None, early_stopping_rounds=None,\n",
              "              enable_categorical=False, eval_metric=None, feature_types=None,\n",
              "              gamma=None, grow_policy=None, importance_type=None,\n",
              "              interaction_constraints=None, learning_rate=None, max_bin=None,\n",
              "              max_cat_threshold=None, max_cat_to_onehot=None,\n",
              "              max_delta_step=None, max_depth=None, max_leaves=None,\n",
              "              min_child_weight=None, missing=nan, monotone_constraints=None,\n",
              "              multi_strategy=None, n_estimators=None, n_jobs=None,\n",
              "              num_parallel_tree=None, random_state=None, ...)</pre></div></div></div></div></div></div></div></div></div></div>"
            ],
            "text/plain": [
              "RandomizedSearchCV(cv=KFold(n_splits=5, random_state=None, shuffle=False),\n",
              "                   estimator=XGBClassifier(base_score=None, booster=None,\n",
              "                                           callbacks=None,\n",
              "                                           colsample_bylevel=None,\n",
              "                                           colsample_bynode=None,\n",
              "                                           colsample_bytree=None, device=None,\n",
              "                                           early_stopping_rounds=None,\n",
              "                                           enable_categorical=False,\n",
              "                                           eval_metric=None, feature_types=None,\n",
              "                                           gamma=None, grow_policy=None,\n",
              "                                           importance_type...\n",
              "                                           max_leaves=None,\n",
              "                                           min_child_weight=None, missing=nan,\n",
              "                                           monotone_constraints=None,\n",
              "                                           multi_strategy=None,\n",
              "                                           n_estimators=None, n_jobs=None,\n",
              "                                           num_parallel_tree=None,\n",
              "                                           random_state=None, ...),\n",
              "                   n_jobs=-1,\n",
              "                   param_distributions={'criterion': ['friedman_mse', 'mse'],\n",
              "                                        'max_depth': [15, 20, 25, 30],\n",
              "                                        'min_samples_leaf': [1, 3, 5, 7],\n",
              "                                        'n_estimators': [50, 100, 150, 200]},\n",
              "                   random_state=42, scoring='accuracy')"
            ]
          },
          "execution_count": 32,
          "metadata": {},
          "output_type": "execute_result"
        }
      ],
      "source": [
        "param_grids = {'n_estimators':[50,100,150,200],\n",
        "              'min_samples_leaf':[1,3,5,7],\n",
        "              'max_depth': [15,20,25,30],\n",
        "              'criterion':['friedman_mse','mse']\n",
        "               }\n",
        "kf=KFold()\n",
        "rs = RandomizedSearchCV(xgb.XGBClassifier(), param_distributions=param_grids, cv=kf, scoring='accuracy', n_jobs=-1,random_state=42)\n",
        "rs.fit(x_train_trf,y_train)"
      ]
    },
    {
      "cell_type": "code",
      "execution_count": null,
      "metadata": {
        "id": "rHZFpfzNXAQi"
      },
      "outputs": [],
      "source": [
        "best_model=rs.best_estimator_"
      ]
    },
    {
      "cell_type": "code",
      "execution_count": null,
      "metadata": {
        "colab": {
          "base_uri": "https://localhost:8080/"
        },
        "id": "38-KJGJjfnAH",
        "outputId": "31e060e3-c106-4c78-95a6-556331cbc9bf"
      },
      "outputs": [
        {
          "data": {
            "text/plain": [
              "0.8157290617848971"
            ]
          },
          "execution_count": 34,
          "metadata": {},
          "output_type": "execute_result"
        }
      ],
      "source": [
        "rs.best_score_"
      ]
    },
    {
      "cell_type": "code",
      "execution_count": null,
      "metadata": {
        "colab": {
          "base_uri": "https://localhost:8080/"
        },
        "id": "Lj1iG2bkftGs",
        "outputId": "54e6f273-f77e-4e15-d31a-754e134361d4"
      },
      "outputs": [
        {
          "data": {
            "text/plain": [
              "{'n_estimators': 150,\n",
              " 'min_samples_leaf': 1,\n",
              " 'max_depth': 25,\n",
              " 'criterion': 'mse'}"
            ]
          },
          "execution_count": 35,
          "metadata": {},
          "output_type": "execute_result"
        }
      ],
      "source": [
        "rs.best_params_"
      ]
    },
    {
      "cell_type": "code",
      "execution_count": null,
      "metadata": {
        "id": "rMk2YShlZZ90"
      },
      "outputs": [],
      "source": [
        "y_pred=best_model.predict(x_test_trf)\n"
      ]
    },
    {
      "cell_type": "code",
      "execution_count": null,
      "metadata": {
        "colab": {
          "base_uri": "https://localhost:8080/"
        },
        "id": "tPkzwahWZtGK",
        "outputId": "2d930908-2433-46e9-8548-683c9031032c"
      },
      "outputs": [
        {
          "data": {
            "text/plain": [
              "80.3473491773309"
            ]
          },
          "execution_count": 38,
          "metadata": {},
          "output_type": "execute_result"
        }
      ],
      "source": [
        "accuracy_score(y_test,y_pred)*100"
      ]
    },
    {
      "cell_type": "code",
      "execution_count": null,
      "metadata": {
        "colab": {
          "base_uri": "https://localhost:8080/",
          "height": 447
        },
        "id": "rXcMcVG_f3rd",
        "outputId": "440aba2d-3701-41ad-ab74-2c51e8150160"
      },
      "outputs": [
        {
          "data": {
            "text/plain": [
              "<Axes: >"
            ]
          },
          "execution_count": 40,
          "metadata": {},
          "output_type": "execute_result"
        },
        {
          "data": {
            "image/png": "[encoded data removed]",
            "text/plain": [
              "<Figure size 640x480 with 2 Axes>"
            ]
          },
          "metadata": {},
          "output_type": "display_data"
        }
      ],
      "source": [
        "sns.heatmap(confusion_matrix(y_test,y_pred),annot=True)"
      ]
    },
    {
      "cell_type": "code",
      "execution_count": null,
      "metadata": {
        "colab": {
          "base_uri": "https://localhost:8080/"
        },
        "id": "XazprvxHg2vl",
        "outputId": "b90b4d3c-8948-4dfe-ad68-9f048f2b313d"
      },
      "outputs": [
        {
          "data": {
            "text/plain": [
              "array([[255,  49,   0],\n",
              "       [ 69, 467,  58],\n",
              "       [  0,  39, 157]])"
            ]
          },
          "execution_count": 41,
          "metadata": {},
          "output_type": "execute_result"
        }
      ],
      "source": [
        "confusion_matrix(y_test,y_pred)"
      ]
    },
    {
      "cell_type": "code",
      "execution_count": null,
      "metadata": {
        "colab": {
          "base_uri": "https://localhost:8080/"
        },
        "id": "U5-UzeZIhLbN",
        "outputId": "ca4a4bdc-7f0a-42d4-a883-8b2a9f87123f"
      },
      "outputs": [
        {
          "data": {
            "text/plain": [
              "34555    1.0\n",
              "4442     1.0\n",
              "50811    1.0\n",
              "45326    1.0\n",
              "57679    2.0\n",
              "        ... \n",
              "31019    1.0\n",
              "44566    2.0\n",
              "95816    1.0\n",
              "72173    1.0\n",
              "89256    0.0\n",
              "Name: Credit_Score, Length: 80000, dtype: float64"
            ]
          },
          "execution_count": 71,
          "metadata": {},
          "output_type": "execute_result"
        }
      ],
      "source": [
        "pipeline=Pipeline([\n",
        "   ('preprocessor',preprocessor),\n",
        "    #('target_preprocessor',target_preprocessor),\n",
        "   ('xgbClassifier',xgb.XGBRFClassifier(n_estimators=150,min_samples_leaf=1,max_depth=25,criterion='mse'))\n",
        "])\n",
        "\n",
        "\n"
      ]
    },
    {
      "cell_type": "code",
      "execution_count": null,
      "metadata": {
        "colab": {
          "base_uri": "https://localhost:8080/",
          "height": 282
        },
        "id": "f7OjP9c8VzdN",
        "outputId": "6e7904e2-2cd5-4b8d-e33f-13db2bf8c296"
      },
      "outputs": [
        {
          "name": "stderr",
          "output_type": "stream",
          "text": [
            "/usr/local/lib/python3.10/dist-packages/xgboost/core.py:160: UserWarning: [18:04:28] WARNING: /workspace/src/learner.cc:742: \n",
            "Parameters: { \"criterion\", \"min_samples_leaf\" } are not used.\n",
            "\n",
            "  warnings.warn(smsg, UserWarning)\n"
          ]
        },
        {
          "data": {
            "text/html": [
              "<style>#sk-container-id-3 {color: black;background-color: white;}#sk-container-id-3 pre{padding: 0;}#sk-container-id-3 div.sk-toggleable {background-color: white;}#sk-container-id-3 label.sk-toggleable__label {cursor: pointer;display: block;width: 100%;margin-bottom: 0;padding: 0.3em;box-sizing: border-box;text-align: center;}#sk-container-id-3 label.sk-toggleable__label-arrow:before {content: \"▸\";float: left;margin-right: 0.25em;color: #696969;}#sk-container-id-3 label.sk-toggleable__label-arrow:hover:before {color: black;}#sk-container-id-3 div.sk-estimator:hover label.sk-toggleable__label-arrow:before {color: black;}#sk-container-id-3 div.sk-toggleable__content {max-height: 0;max-width: 0;overflow: hidden;text-align: left;background-color: #f0f8ff;}#sk-container-id-3 div.sk-toggleable__content pre {margin: 0.2em;color: black;border-radius: 0.25em;background-color: #f0f8ff;}#sk-container-id-3 input.sk-toggleable__control:checked~div.sk-toggleable__content {max-height: 200px;max-width: 100%;overflow: auto;}#sk-container-id-3 input.sk-toggleable__control:checked~label.sk-toggleable__label-arrow:before {content: \"▾\";}#sk-container-id-3 div.sk-estimator input.sk-toggleable__control:checked~label.sk-toggleable__label {background-color: #d4ebff;}#sk-container-id-3 div.sk-label input.sk-toggleable__control:checked~label.sk-toggleable__label {background-color: #d4ebff;}#sk-container-id-3 input.sk-hidden--visually {border: 0;clip: rect(1px 1px 1px 1px);clip: rect(1px, 1px, 1px, 1px);height: 1px;margin: -1px;overflow: hidden;padding: 0;position: absolute;width: 1px;}#sk-container-id-3 div.sk-estimator {font-family: monospace;background-color: #f0f8ff;border: 1px dotted black;border-radius: 0.25em;box-sizing: border-box;margin-bottom: 0.5em;}#sk-container-id-3 div.sk-estimator:hover {background-color: #d4ebff;}#sk-container-id-3 div.sk-parallel-item::after {content: \"\";width: 100%;border-bottom: 1px solid gray;flex-grow: 1;}#sk-container-id-3 div.sk-label:hover label.sk-toggleable__label {background-color: #d4ebff;}#sk-container-id-3 div.sk-serial::before {content: \"\";position: absolute;border-left: 1px solid gray;box-sizing: border-box;top: 0;bottom: 0;left: 50%;z-index: 0;}#sk-container-id-3 div.sk-serial {display: flex;flex-direction: column;align-items: center;background-color: white;padding-right: 0.2em;padding-left: 0.2em;position: relative;}#sk-container-id-3 div.sk-item {position: relative;z-index: 1;}#sk-container-id-3 div.sk-parallel {display: flex;align-items: stretch;justify-content: center;background-color: white;position: relative;}#sk-container-id-3 div.sk-item::before, #sk-container-id-3 div.sk-parallel-item::before {content: \"\";position: absolute;border-left: 1px solid gray;box-sizing: border-box;top: 0;bottom: 0;left: 50%;z-index: -1;}#sk-container-id-3 div.sk-parallel-item {display: flex;flex-direction: column;z-index: 1;position: relative;background-color: white;}#sk-container-id-3 div.sk-parallel-item:first-child::after {align-self: flex-end;width: 50%;}#sk-container-id-3 div.sk-parallel-item:last-child::after {align-self: flex-start;width: 50%;}#sk-container-id-3 div.sk-parallel-item:only-child::after {width: 0;}#sk-container-id-3 div.sk-dashed-wrapped {border: 1px dashed gray;margin: 0 0.4em 0.5em 0.4em;box-sizing: border-box;padding-bottom: 0.4em;background-color: white;}#sk-container-id-3 div.sk-label label {font-family: monospace;font-weight: bold;display: inline-block;line-height: 1.2em;}#sk-container-id-3 div.sk-label-container {text-align: center;}#sk-container-id-3 div.sk-container {/* jupyter's `normalize.less` sets `[hidden] { display: none; }` but bootstrap.min.css set `[hidden] { display: none !important; }` so we also need the `!important` here to be able to override the default hidden behavior on the sphinx rendered scikit-learn.org. See: https://github.com/scikit-learn/scikit-learn/issues/21755 */display: inline-block !important;position: relative;}#sk-container-id-3 div.sk-text-repr-fallback {display: none;}</style><div id=\"sk-container-id-3\" class=\"sk-top-container\"><div class=\"sk-text-repr-fallback\"><pre>Pipeline(steps=[(&#x27;preprocessor&#x27;,\n",
              "                 ColumnTransformer(remainder=&#x27;passthrough&#x27;,\n",
              "                                   transformers=[(&#x27;num&#x27;, MinMaxScaler(),\n",
              "                                                  Index([&#x27;Customer_ID&#x27;, &#x27;Month&#x27;, &#x27;Age&#x27;, &#x27;Annual_Income&#x27;, &#x27;Monthly_Inhand_Salary&#x27;,\n",
              "       &#x27;Num_Bank_Accounts&#x27;, &#x27;Num_Credit_Card&#x27;, &#x27;Interest_Rate&#x27;, &#x27;Num_of_Loan&#x27;,\n",
              "       &#x27;Delay_from_due_date&#x27;, &#x27;Num_of_Delayed_Payment&#x27;, &#x27;Changed_Credit_Limit&#x27;,\n",
              "       &#x27;Num_Credit_Inquiries&#x27;, &#x27;Out...\n",
              "                                 grow_policy=None, importance_type=None,\n",
              "                                 interaction_constraints=None, max_bin=None,\n",
              "                                 max_cat_threshold=None, max_cat_to_onehot=None,\n",
              "                                 max_delta_step=None, max_depth=25,\n",
              "                                 max_leaves=None, min_child_weight=None,\n",
              "                                 min_samples_leaf=1, missing=nan,\n",
              "                                 monotone_constraints=None, multi_strategy=None,\n",
              "                                 n_estimators=150, n_jobs=None,\n",
              "                                 num_parallel_tree=None,\n",
              "                                 objective=&#x27;multi:softprob&#x27;, ...))])</pre><b>In a Jupyter environment, please rerun this cell to show the HTML representation or trust the notebook. <br />On GitHub, the HTML representation is unable to render, please try loading this page with nbviewer.org.</b></div><div class=\"sk-container\" hidden><div class=\"sk-item sk-dashed-wrapped\"><div class=\"sk-label-container\"><div class=\"sk-label sk-toggleable\"><input class=\"sk-toggleable__control sk-hidden--visually\" id=\"sk-estimator-id-19\" type=\"checkbox\" ><label for=\"sk-estimator-id-19\" class=\"sk-toggleable__label sk-toggleable__label-arrow\">Pipeline</label><div class=\"sk-toggleable__content\"><pre>Pipeline(steps=[(&#x27;preprocessor&#x27;,\n",
              "                 ColumnTransformer(remainder=&#x27;passthrough&#x27;,\n",
              "                                   transformers=[(&#x27;num&#x27;, MinMaxScaler(),\n",
              "                                                  Index([&#x27;Customer_ID&#x27;, &#x27;Month&#x27;, &#x27;Age&#x27;, &#x27;Annual_Income&#x27;, &#x27;Monthly_Inhand_Salary&#x27;,\n",
              "       &#x27;Num_Bank_Accounts&#x27;, &#x27;Num_Credit_Card&#x27;, &#x27;Interest_Rate&#x27;, &#x27;Num_of_Loan&#x27;,\n",
              "       &#x27;Delay_from_due_date&#x27;, &#x27;Num_of_Delayed_Payment&#x27;, &#x27;Changed_Credit_Limit&#x27;,\n",
              "       &#x27;Num_Credit_Inquiries&#x27;, &#x27;Out...\n",
              "                                 grow_policy=None, importance_type=None,\n",
              "                                 interaction_constraints=None, max_bin=None,\n",
              "                                 max_cat_threshold=None, max_cat_to_onehot=None,\n",
              "                                 max_delta_step=None, max_depth=25,\n",
              "                                 max_leaves=None, min_child_weight=None,\n",
              "                                 min_samples_leaf=1, missing=nan,\n",
              "                                 monotone_constraints=None, multi_strategy=None,\n",
              "                                 n_estimators=150, n_jobs=None,\n",
              "                                 num_parallel_tree=None,\n",
              "                                 objective=&#x27;multi:softprob&#x27;, ...))])</pre></div></div></div><div class=\"sk-serial\"><div class=\"sk-item sk-dashed-wrapped\"><div class=\"sk-label-container\"><div class=\"sk-label sk-toggleable\"><input class=\"sk-toggleable__control sk-hidden--visually\" id=\"sk-estimator-id-20\" type=\"checkbox\" ><label for=\"sk-estimator-id-20\" class=\"sk-toggleable__label sk-toggleable__label-arrow\">preprocessor: ColumnTransformer</label><div class=\"sk-toggleable__content\"><pre>ColumnTransformer(remainder=&#x27;passthrough&#x27;,\n",
              "                  transformers=[(&#x27;num&#x27;, MinMaxScaler(),\n",
              "                                 Index([&#x27;Customer_ID&#x27;, &#x27;Month&#x27;, &#x27;Age&#x27;, &#x27;Annual_Income&#x27;, &#x27;Monthly_Inhand_Salary&#x27;,\n",
              "       &#x27;Num_Bank_Accounts&#x27;, &#x27;Num_Credit_Card&#x27;, &#x27;Interest_Rate&#x27;, &#x27;Num_of_Loan&#x27;,\n",
              "       &#x27;Delay_from_due_date&#x27;, &#x27;Num_of_Delayed_Payment&#x27;, &#x27;Changed_Credit_Limit&#x27;,\n",
              "       &#x27;Num_Credit_Inquiries&#x27;, &#x27;Outstanding_Debt&#x27;, &#x27;Credit_Utilization_Ratio&#x27;,\n",
              "       &#x27;Credit_History_Age&#x27;, &#x27;Payment_of_Min_Amount&#x27;, &#x27;Total_EMI_per_month&#x27;,\n",
              "       &#x27;Amount_invested_monthly&#x27;, &#x27;Payment_Behaviour&#x27;],\n",
              "      dtype=&#x27;object&#x27;)),\n",
              "                                (&#x27;ohe&#x27;,\n",
              "                                 OneHotEncoder(drop=&#x27;first&#x27;,\n",
              "                                               sparse_output=False),\n",
              "                                 [&#x27;Occupation&#x27;])],\n",
              "                  verbose_feature_names_out=False)</pre></div></div></div><div class=\"sk-parallel\"><div class=\"sk-parallel-item\"><div class=\"sk-item\"><div class=\"sk-label-container\"><div class=\"sk-label sk-toggleable\"><input class=\"sk-toggleable__control sk-hidden--visually\" id=\"sk-estimator-id-21\" type=\"checkbox\" ><label for=\"sk-estimator-id-21\" class=\"sk-toggleable__label sk-toggleable__label-arrow\">num</label><div class=\"sk-toggleable__content\"><pre>Index([&#x27;Customer_ID&#x27;, &#x27;Month&#x27;, &#x27;Age&#x27;, &#x27;Annual_Income&#x27;, &#x27;Monthly_Inhand_Salary&#x27;,\n",
              "       &#x27;Num_Bank_Accounts&#x27;, &#x27;Num_Credit_Card&#x27;, &#x27;Interest_Rate&#x27;, &#x27;Num_of_Loan&#x27;,\n",
              "       &#x27;Delay_from_due_date&#x27;, &#x27;Num_of_Delayed_Payment&#x27;, &#x27;Changed_Credit_Limit&#x27;,\n",
              "       &#x27;Num_Credit_Inquiries&#x27;, &#x27;Outstanding_Debt&#x27;, &#x27;Credit_Utilization_Ratio&#x27;,\n",
              "       &#x27;Credit_History_Age&#x27;, &#x27;Payment_of_Min_Amount&#x27;, &#x27;Total_EMI_per_month&#x27;,\n",
              "       &#x27;Amount_invested_monthly&#x27;, &#x27;Payment_Behaviour&#x27;],\n",
              "      dtype=&#x27;object&#x27;)</pre></div></div></div><div class=\"sk-serial\"><div class=\"sk-item\"><div class=\"sk-estimator sk-toggleable\"><input class=\"sk-toggleable__control sk-hidden--visually\" id=\"sk-estimator-id-22\" type=\"checkbox\" ><label for=\"sk-estimator-id-22\" class=\"sk-toggleable__label sk-toggleable__label-arrow\">MinMaxScaler</label><div class=\"sk-toggleable__content\"><pre>MinMaxScaler()</pre></div></div></div></div></div></div><div class=\"sk-parallel-item\"><div class=\"sk-item\"><div class=\"sk-label-container\"><div class=\"sk-label sk-toggleable\"><input class=\"sk-toggleable__control sk-hidden--visually\" id=\"sk-estimator-id-23\" type=\"checkbox\" ><label for=\"sk-estimator-id-23\" class=\"sk-toggleable__label sk-toggleable__label-arrow\">ohe</label><div class=\"sk-toggleable__content\"><pre>[&#x27;Occupation&#x27;]</pre></div></div></div><div class=\"sk-serial\"><div class=\"sk-item\"><div class=\"sk-estimator sk-toggleable\"><input class=\"sk-toggleable__control sk-hidden--visually\" id=\"sk-estimator-id-24\" type=\"checkbox\" ><label for=\"sk-estimator-id-24\" class=\"sk-toggleable__label sk-toggleable__label-arrow\">OneHotEncoder</label><div class=\"sk-toggleable__content\"><pre>OneHotEncoder(drop=&#x27;first&#x27;, sparse_output=False)</pre></div></div></div></div></div></div><div class=\"sk-parallel-item\"><div class=\"sk-item\"><div class=\"sk-label-container\"><div class=\"sk-label sk-toggleable\"><input class=\"sk-toggleable__control sk-hidden--visually\" id=\"sk-estimator-id-25\" type=\"checkbox\" ><label for=\"sk-estimator-id-25\" class=\"sk-toggleable__label sk-toggleable__label-arrow\">remainder</label><div class=\"sk-toggleable__content\"><pre>[&#x27;Monthly_Balance&#x27;]</pre></div></div></div><div class=\"sk-serial\"><div class=\"sk-item\"><div class=\"sk-estimator sk-toggleable\"><input class=\"sk-toggleable__control sk-hidden--visually\" id=\"sk-estimator-id-26\" type=\"checkbox\" ><label for=\"sk-estimator-id-26\" class=\"sk-toggleable__label sk-toggleable__label-arrow\">passthrough</label><div class=\"sk-toggleable__content\"><pre>passthrough</pre></div></div></div></div></div></div></div></div><div class=\"sk-item\"><div class=\"sk-estimator sk-toggleable\"><input class=\"sk-toggleable__control sk-hidden--visually\" id=\"sk-estimator-id-27\" type=\"checkbox\" ><label for=\"sk-estimator-id-27\" class=\"sk-toggleable__label sk-toggleable__label-arrow\">XGBRFClassifier</label><div class=\"sk-toggleable__content\"><pre>XGBRFClassifier(base_score=None, booster=None, callbacks=None,\n",
              "                colsample_bylevel=None, colsample_bytree=None, criterion=&#x27;mse&#x27;,\n",
              "                device=None, early_stopping_rounds=None,\n",
              "                enable_categorical=False, eval_metric=None, feature_types=None,\n",
              "                gamma=None, grow_policy=None, importance_type=None,\n",
              "                interaction_constraints=None, max_bin=None,\n",
              "                max_cat_threshold=None, max_cat_to_onehot=None,\n",
              "                max_delta_step=None, max_depth=25, max_leaves=None,\n",
              "                min_child_weight=None, min_samples_leaf=1, missing=nan,\n",
              "                monotone_constraints=None, multi_strategy=None,\n",
              "                n_estimators=150, n_jobs=None, num_parallel_tree=None,\n",
              "                objective=&#x27;multi:softprob&#x27;, ...)</pre></div></div></div></div></div></div></div>"
            ],
            "text/plain": [
              "Pipeline(steps=[('preprocessor',\n",
              "                 ColumnTransformer(remainder='passthrough',\n",
              "                                   transformers=[('num', MinMaxScaler(),\n",
              "                                                  Index(['Customer_ID', 'Month', 'Age', 'Annual_Income', 'Monthly_Inhand_Salary',\n",
              "       'Num_Bank_Accounts', 'Num_Credit_Card', 'Interest_Rate', 'Num_of_Loan',\n",
              "       'Delay_from_due_date', 'Num_of_Delayed_Payment', 'Changed_Credit_Limit',\n",
              "       'Num_Credit_Inquiries', 'Out...\n",
              "                                 grow_policy=None, importance_type=None,\n",
              "                                 interaction_constraints=None, max_bin=None,\n",
              "                                 max_cat_threshold=None, max_cat_to_onehot=None,\n",
              "                                 max_delta_step=None, max_depth=25,\n",
              "                                 max_leaves=None, min_child_weight=None,\n",
              "                                 min_samples_leaf=1, missing=nan,\n",
              "                                 monotone_constraints=None, multi_strategy=None,\n",
              "                                 n_estimators=150, n_jobs=None,\n",
              "                                 num_parallel_tree=None,\n",
              "                                 objective='multi:softprob', ...))])"
            ]
          },
          "execution_count": 72,
          "metadata": {},
          "output_type": "execute_result"
        }
      ],
      "source": [
        "pipeline.fit(x_train,y_train)"
      ]
    },
    {
      "cell_type": "code",
      "execution_count": null,
      "metadata": {
        "id": "5yAHzJN6WCG5"
      },
      "outputs": [],
      "source": [
        "y_pred=pipeline.predict(x_test)"
      ]
    },
    {
      "cell_type": "code",
      "execution_count": null,
      "metadata": {
        "colab": {
          "base_uri": "https://localhost:8080/"
        },
        "id": "1FLjuZO0WqGs",
        "outputId": "2f4a4748-b016-4f8f-ad2f-3e4043909f53"
      },
      "outputs": [
        {
          "data": {
            "text/plain": [
              "0.8136"
            ]
          },
          "execution_count": 78,
          "metadata": {},
          "output_type": "execute_result"
        }
      ],
      "source": [
        "accuracy_score(y_test,y_pred)"
      ]
    },
    {
      "cell_type": "code",
      "execution_count": null,
      "metadata": {
        "colab": {
          "base_uri": "https://localhost:8080/"
        },
        "id": "W5uJ-zGMhDTs",
        "outputId": "d6760a90-4d59-41b8-a8af-960a78115cce"
      },
      "outputs": [
        {
          "data": {
            "text/plain": [
              "array([0.01209532, 0.01326563, 0.01323731, 0.01371576, 0.01391174,\n",
              "       0.01456785, 0.01372619, 0.01360838, 0.01365751, 0.01349401,\n",
              "       0.01324033, 0.01312377, 0.01432131, 0.01477967, 0.01409853,\n",
              "       0.01295892, 0.01124186, 0.0184534 , 0.3941438 , 0.01503785,\n",
              "       0.00998473, 0.06315975, 0.01564284, 0.01946939, 0.02013689,\n",
              "       0.02318712, 0.01488812, 0.04922238, 0.04326024, 0.02320897,\n",
              "       0.01583022, 0.01303779, 0.01157867, 0.01071031, 0.01000346],\n",
              "      dtype=float32)"
            ]
          },
          "execution_count": 89,
          "metadata": {},
          "output_type": "execute_result"
        }
      ],
      "source": [
        "feature_importance = pipeline.named_steps['xgbClassifier'].feature_importances_\n",
        "feature_importance[::-1]"
      ]
    },
    {
      "cell_type": "code",
      "source": [
        "df=data[['Customer_ID', 'Month', 'Age', 'Occupation', 'Monthly_Inhand_Salary',\n",
        "                'Num_Bank_Accounts', 'Num_Credit_Card', 'Num_of_Loan',\n",
        "                'Delay_from_due_date', 'Changed_Credit_Limit', 'Outstanding_Debt',\n",
        "                'Credit_History_Age', 'Payment_of_Min_Amount', 'Payment_Behaviour','Credit_Score']]\n",
        "\n",
        "df.shape"
      ],
      "metadata": {
        "colab": {
          "base_uri": "https://localhost:8080/"
        },
        "id": "tRXSkGoKR72t",
        "outputId": "bd6200e0-ab13-4d25-e02a-86c8aecf6c3d"
      },
      "execution_count": 115,
      "outputs": [
        {
          "output_type": "execute_result",
          "data": {
            "text/plain": [
              "(150000, 15)"
            ]
          },
          "metadata": {},
          "execution_count": 115
        }
      ]
    },
    {
      "cell_type": "code",
      "source": [
        "def traintest_split(data):\n",
        "\n",
        "    x=data[~data['Credit_Score'].isna()].drop(columns='Credit_Score')\n",
        "    y=data['Credit_Score'][~data['Credit_Score'].isna()]\n",
        "    x_train,x_test,y_train,y_test=train_test_split(x,y,test_size=0.2,random_state=2)\n",
        "    x_test1=data[data['Credit_Score'].isna()].drop(columns='Credit_Score')\n",
        "    y_test1=data['Credit_Score'][data['Credit_Score'].isna()]\n",
        "    print(f\"x_train: {x_train.shape} \",f\"x_test: {x_test.shape}\")\n",
        "    print(f\"y_train: {y_train.shape} \",f\"y_test: {y_test.shape}\")\n",
        "    print(f\"x_test1: {x_test1.shape} \",f\"y_test1: {y_test1.shape}\")\n",
        "    return (x_train,x_test,y_train,y_test,x_test1,y_test1)"
      ],
      "metadata": {
        "id": "gDLf-y53RyHx"
      },
      "execution_count": 145,
      "outputs": []
    },
    {
      "cell_type": "code",
      "source": [
        "x_train,x_test,y_train,y_test,x_test1,y_test1=traintest_split(df)\n"
      ],
      "metadata": {
        "colab": {
          "base_uri": "https://localhost:8080/"
        },
        "id": "mJ2G2JxjSILI",
        "outputId": "51c68ab4-8886-4148-a73c-22efe17200ed"
      },
      "execution_count": 146,
      "outputs": [
        {
          "output_type": "stream",
          "name": "stdout",
          "text": [
            "x_train: (80000, 14)  x_test: (20000, 14)\n",
            "y_train: (80000,)  y_test: (20000,)\n",
            "x_test1: (50000, 14)  y_test1: (50000,)\n"
          ]
        }
      ]
    },
    {
      "cell_type": "code",
      "source": [
        "num_cols=df.select_dtypes(exclude='O').columns\n",
        "cat_cols=df.select_dtypes(include='O').columns\n",
        "num_cols[:-1],cat_cols"
      ],
      "metadata": {
        "colab": {
          "base_uri": "https://localhost:8080/"
        },
        "id": "xW9kJ22-TQo9",
        "outputId": "ec3b6bd0-fd13-4ff4-cf78-25412f29c60a"
      },
      "execution_count": 147,
      "outputs": [
        {
          "output_type": "execute_result",
          "data": {
            "text/plain": [
              "(Index(['Customer_ID', 'Age', 'Monthly_Inhand_Salary', 'Num_Bank_Accounts',\n",
              "        'Num_Credit_Card', 'Num_of_Loan', 'Delay_from_due_date',\n",
              "        'Changed_Credit_Limit', 'Outstanding_Debt', 'Credit_History_Age'],\n",
              "       dtype='object'),\n",
              " Index(['Month', 'Occupation', 'Payment_of_Min_Amount', 'Payment_Behaviour'], dtype='object'))"
            ]
          },
          "metadata": {},
          "execution_count": 147
        }
      ]
    },
    {
      "cell_type": "code",
      "source": [
        "x_train['Month'].value_counts()"
      ],
      "metadata": {
        "colab": {
          "base_uri": "https://localhost:8080/"
        },
        "id": "etsO0ILYjYXy",
        "outputId": "c3cf6f0a-fe20-4eb9-aaeb-68bb7e21b1a9"
      },
      "execution_count": 150,
      "outputs": [
        {
          "output_type": "execute_result",
          "data": {
            "text/plain": [
              "June        10070\n",
              "February    10044\n",
              "May         10014\n",
              "April       10011\n",
              "March       10006\n",
              "July         9985\n",
              "January      9952\n",
              "August       9918\n",
              "Name: Month, dtype: int64"
            ]
          },
          "metadata": {},
          "execution_count": 150
        }
      ]
    },
    {
      "cell_type": "code",
      "source": [
        "def transform_payment_of_min_amount_column(column):\n",
        "    return column.replace({'Yes': 1, 'No': 0, 'NM': 2}).astype('float')\n",
        "\n",
        "def transform_payment_behaviour(column):\n",
        "    return column.replace({'Low_spent_Small_value_payments':1, 'Low_spent_Medium_value_payments':2,\n",
        "    'Low_spent_Large_value_payments':3, 'High_spent_Small_value_payments':4,\n",
        "    'High_spent_Medium_value_payments':5, 'High_spent_Large_value_payments':6}).astype('float')\n",
        "\n",
        "def transform_month(column):\n",
        "    return column.replace({\n",
        "        'January': 1, 'February': 2, 'March': 3, 'April': 4, 'May': 5, 'June': 6,\n",
        "        'July': 7, 'August': 8, 'September': 9, 'October': 10, 'November': 11, 'December': 12\n",
        "    }).astype('float')"
      ],
      "metadata": {
        "id": "WaxUjIsATo-V"
      },
      "execution_count": 151,
      "outputs": []
    },
    {
      "cell_type": "code",
      "source": [
        "x_train['Payment_of_Min_Amount'].value_counts()"
      ],
      "metadata": {
        "colab": {
          "base_uri": "https://localhost:8080/"
        },
        "id": "hoWJtCNfYzdE",
        "outputId": "501888c1-a6a2-48a4-d222-e8c37396fbf5"
      },
      "execution_count": 120,
      "outputs": [
        {
          "output_type": "execute_result",
          "data": {
            "text/plain": [
              "1.0    41820\n",
              "0.0    28566\n",
              "2.0     9614\n",
              "Name: Payment_of_Min_Amount, dtype: int64"
            ]
          },
          "metadata": {},
          "execution_count": 120
        }
      ]
    },
    {
      "cell_type": "code",
      "execution_count": 152,
      "metadata": {
        "id": "rfzfrrRHijvx"
      },
      "outputs": [],
      "source": [
        "def transform_payment_of_min_amount_column(column):\n",
        "    return column.replace({'Yes': 1, 'No': 0, 'NM': 2}).astype('float')\n",
        "\n",
        "def transform_payment_behaviour(column):\n",
        "    return column.replace({'Low_spent_Small_value_payments':1, 'Low_spent_Medium_value_payments':2,\n",
        "    'Low_spent_Large_value_payments':3, 'High_spent_Small_value_payments':4,\n",
        "    'High_spent_Medium_value_payments':5, 'High_spent_Large_value_payments':6}).astype('float')\n",
        "\n",
        "def transform_month(column):\n",
        "    return column.replace({\n",
        "        'January': 1, 'February': 2, 'March': 3, 'April': 4, 'May': 5, 'June': 6,\n",
        "        'July': 7, 'August': 8, 'September': 9, 'October': 10, 'November': 11, 'December': 12\n",
        "    }).astype('float')\n",
        "\n",
        "\n",
        "preprocessor = ColumnTransformer(\n",
        "    transformers=[\n",
        "        ('transform_payment_of_min_amount_column',FunctionTransformer(transform_payment_of_min_amount_column, validate=False),['Payment_of_Min_Amount']),\n",
        "        ('transform_payment_behaviour',FunctionTransformer(transform_payment_behaviour, validate=False),['Payment_Behaviour']),\n",
        "        ('transform_month',FunctionTransformer(transform_month, validate=False),['Month']),\n",
        "        ('num', MinMaxScaler(), num_cols[:-1]),  # Apply numerical pipeline to numerical features\n",
        "        ('ohe', OneHotEncoder(drop='first',sparse_output=False), ['Occupation']) # Apply categorical pipeline to categorical features\n",
        "    ],remainder='passthrough',verbose_feature_names_out=False)\n",
        "\n",
        "pipeline=Pipeline([\n",
        "   ('preprocessor',preprocessor),\n",
        "   ('xgbClassifier',xgb.XGBRFClassifier(n_estimators=150,min_samples_leaf=1,max_depth=25,criterion='mse'))\n",
        "])\n",
        "\n"
      ]
    },
    {
      "cell_type": "code",
      "source": [
        "df['Month']=df['Month'].replace({\n",
        "        1:'January', 2:'February', 3:'March', 4:'April', 5:'May', 6:'June',\n",
        "        7:'July', 8:'August', 9:'September', 10:'October', 11:'November', 12:'December'\n",
        "    })"
      ],
      "metadata": {
        "colab": {
          "base_uri": "https://localhost:8080/"
        },
        "id": "oQYD7EZ2SSDF",
        "outputId": "842cab54-c311-4ec7-c655-089c1105ab19"
      },
      "execution_count": 123,
      "outputs": [
        {
          "output_type": "stream",
          "name": "stderr",
          "text": [
            "<ipython-input-123-0f7ac6148981>:1: SettingWithCopyWarning: \n",
            "A value is trying to be set on a copy of a slice from a DataFrame.\n",
            "Try using .loc[row_indexer,col_indexer] = value instead\n",
            "\n",
            "See the caveats in the documentation: https://pandas.pydata.org/pandas-docs/stable/user_guide/indexing.html#returning-a-view-versus-a-copy\n",
            "  df['Month']=df['Month'].replace({\n"
          ]
        }
      ]
    },
    {
      "cell_type": "code",
      "source": [
        "df['Month'].value_counts()"
      ],
      "metadata": {
        "colab": {
          "base_uri": "https://localhost:8080/"
        },
        "id": "60GG4yoKeqNl",
        "outputId": "d028a35d-c334-4484-c182-a68bc1a2fe7c"
      },
      "execution_count": 153,
      "outputs": [
        {
          "output_type": "execute_result",
          "data": {
            "text/plain": [
              "January      12500\n",
              "February     12500\n",
              "March        12500\n",
              "April        12500\n",
              "May          12500\n",
              "June         12500\n",
              "July         12500\n",
              "August       12500\n",
              "September    12500\n",
              "October      12500\n",
              "November     12500\n",
              "December     12500\n",
              "Name: Month, dtype: int64"
            ]
          },
          "metadata": {},
          "execution_count": 153
        }
      ]
    },
    {
      "cell_type": "code",
      "source": [
        "df['Payment_of_Min_Amount']=df['Payment_of_Min_Amount'].replace({1:'Yes',0:'No',2:'NM'})"
      ],
      "metadata": {
        "colab": {
          "base_uri": "https://localhost:8080/"
        },
        "id": "ySQKCqztSZld",
        "outputId": "d918c7e0-fe74-4a12-b93e-ee41b941aeb9"
      },
      "execution_count": 125,
      "outputs": [
        {
          "output_type": "stream",
          "name": "stderr",
          "text": [
            "<ipython-input-125-a15fd4a424e3>:1: SettingWithCopyWarning: \n",
            "A value is trying to be set on a copy of a slice from a DataFrame.\n",
            "Try using .loc[row_indexer,col_indexer] = value instead\n",
            "\n",
            "See the caveats in the documentation: https://pandas.pydata.org/pandas-docs/stable/user_guide/indexing.html#returning-a-view-versus-a-copy\n",
            "  df['Payment_of_Min_Amount']=df['Payment_of_Min_Amount'].replace({1:'Yes',0:'No',2:'NM'})\n"
          ]
        }
      ]
    },
    {
      "cell_type": "code",
      "source": [
        "df['Payment_of_Min_Amount'].value_counts()"
      ],
      "metadata": {
        "colab": {
          "base_uri": "https://localhost:8080/"
        },
        "id": "8b-z-mzOYmOE",
        "outputId": "0e8fcef6-e958-4a25-fd2f-b8df36731ff2"
      },
      "execution_count": 154,
      "outputs": [
        {
          "output_type": "execute_result",
          "data": {
            "text/plain": [
              "Yes    78484\n",
              "No     53516\n",
              "NM     18000\n",
              "Name: Payment_of_Min_Amount, dtype: int64"
            ]
          },
          "metadata": {},
          "execution_count": 154
        }
      ]
    },
    {
      "cell_type": "code",
      "source": [
        "df['Payment_Behaviour']=df['Payment_Behaviour'].replace({1:'Low_spent_Small_value_payments', 2:'Low_spent_Medium_value_payments',\n",
        "    3:'Low_spent_Large_value_payments', 4:'High_spent_Small_value_payments',\n",
        "    5:'High_spent_Medium_value_payments', 6:'High_spent_Large_value_payments'})"
      ],
      "metadata": {
        "colab": {
          "base_uri": "https://localhost:8080/"
        },
        "id": "BNnwJ91sehC5",
        "outputId": "e7c91f53-5f3b-4aeb-e8a5-d6e4fce563e5"
      },
      "execution_count": 127,
      "outputs": [
        {
          "output_type": "stream",
          "name": "stderr",
          "text": [
            "<ipython-input-127-ade3c663083b>:1: SettingWithCopyWarning: \n",
            "A value is trying to be set on a copy of a slice from a DataFrame.\n",
            "Try using .loc[row_indexer,col_indexer] = value instead\n",
            "\n",
            "See the caveats in the documentation: https://pandas.pydata.org/pandas-docs/stable/user_guide/indexing.html#returning-a-view-versus-a-copy\n",
            "  df['Payment_Behaviour']=df['Payment_Behaviour'].replace({1:'Low_spent_Small_value_payments', 2:'Low_spent_Medium_value_payments',\n"
          ]
        }
      ]
    },
    {
      "cell_type": "code",
      "source": [
        "df['Payment_Behaviour'].value_counts()"
      ],
      "metadata": {
        "colab": {
          "base_uri": "https://localhost:8080/"
        },
        "id": "VAKeRu63eji2",
        "outputId": "3760efe3-669c-4e55-aa40-1db213f11c5f"
      },
      "execution_count": 157,
      "outputs": [
        {
          "output_type": "execute_result",
          "data": {
            "text/plain": [
              "Low_spent_Small_value_payments      43460\n",
              "High_spent_Medium_value_payments    28664\n",
              "Low_spent_Medium_value_payments     21970\n",
              "High_spent_Large_value_payments     21957\n",
              "High_spent_Small_value_payments     17679\n",
              "Low_spent_Large_value_payments      16270\n",
              "Name: Payment_Behaviour, dtype: int64"
            ]
          },
          "metadata": {},
          "execution_count": 157
        }
      ]
    },
    {
      "cell_type": "code",
      "source": [
        "df.to_csv('df.csv')"
      ],
      "metadata": {
        "id": "BSyIkxTrmGhe"
      },
      "execution_count": 170,
      "outputs": []
    },
    {
      "cell_type": "code",
      "source": [
        "df.shape"
      ],
      "metadata": {
        "colab": {
          "base_uri": "https://localhost:8080/"
        },
        "id": "YSMZAsq-mSJB",
        "outputId": "ac0d79dd-fbd9-444d-82a5-2950913b8d5e"
      },
      "execution_count": 171,
      "outputs": [
        {
          "output_type": "execute_result",
          "data": {
            "text/plain": [
              "(150000, 15)"
            ]
          },
          "metadata": {},
          "execution_count": 171
        }
      ]
    },
    {
      "cell_type": "code",
      "source": [
        "x_train['Month'].value_counts()"
      ],
      "metadata": {
        "colab": {
          "base_uri": "https://localhost:8080/"
        },
        "id": "7TwLkhfwj6DO",
        "outputId": "c7a14168-11ff-41ad-a2f6-8429d20e51a0"
      },
      "execution_count": 160,
      "outputs": [
        {
          "output_type": "execute_result",
          "data": {
            "text/plain": [
              "June        10070\n",
              "February    10044\n",
              "May         10014\n",
              "April       10011\n",
              "March       10006\n",
              "July         9985\n",
              "January      9952\n",
              "August       9918\n",
              "Name: Month, dtype: int64"
            ]
          },
          "metadata": {},
          "execution_count": 160
        }
      ]
    },
    {
      "cell_type": "code",
      "source": [
        "pipeline.fit(x_train,y_train)"
      ],
      "metadata": {
        "colab": {
          "base_uri": "https://localhost:8080/",
          "height": 299
        },
        "id": "uvljGMRmUarf",
        "outputId": "7f1f5644-3657-4d31-c44b-b48a974cb56c"
      },
      "execution_count": 161,
      "outputs": [
        {
          "output_type": "stream",
          "name": "stderr",
          "text": [
            "/usr/local/lib/python3.10/dist-packages/xgboost/core.py:160: UserWarning: [18:09:58] WARNING: /workspace/src/learner.cc:742: \n",
            "Parameters: { \"criterion\", \"min_samples_leaf\" } are not used.\n",
            "\n",
            "  warnings.warn(smsg, UserWarning)\n"
          ]
        },
        {
          "output_type": "execute_result",
          "data": {
            "text/plain": [
              "Pipeline(steps=[('preprocessor',\n",
              "                 ColumnTransformer(remainder='passthrough',\n",
              "                                   transformers=[('transform_payment_of_min_amount_column',\n",
              "                                                  FunctionTransformer(func=<function transform_payment_of_min_amount_column at 0x7ec2e75f80d0>),\n",
              "                                                  ['Payment_of_Min_Amount']),\n",
              "                                                 ('transform_payment_behaviour',\n",
              "                                                  FunctionTransformer(func=<function transform_payment_behaviour at 0x7ec2e7...\n",
              "                                 grow_policy=None, importance_type=None,\n",
              "                                 interaction_constraints=None, max_bin=None,\n",
              "                                 max_cat_threshold=None, max_cat_to_onehot=None,\n",
              "                                 max_delta_step=None, max_depth=25,\n",
              "                                 max_leaves=None, min_child_weight=None,\n",
              "                                 min_samples_leaf=1, missing=nan,\n",
              "                                 monotone_constraints=None, multi_strategy=None,\n",
              "                                 n_estimators=150, n_jobs=None,\n",
              "                                 num_parallel_tree=None,\n",
              "                                 objective='multi:softprob', ...))])"
            ],
            "text/html": [
              "<style>#sk-container-id-5 {color: black;background-color: white;}#sk-container-id-5 pre{padding: 0;}#sk-container-id-5 div.sk-toggleable {background-color: white;}#sk-container-id-5 label.sk-toggleable__label {cursor: pointer;display: block;width: 100%;margin-bottom: 0;padding: 0.3em;box-sizing: border-box;text-align: center;}#sk-container-id-5 label.sk-toggleable__label-arrow:before {content: \"▸\";float: left;margin-right: 0.25em;color: #696969;}#sk-container-id-5 label.sk-toggleable__label-arrow:hover:before {color: black;}#sk-container-id-5 div.sk-estimator:hover label.sk-toggleable__label-arrow:before {color: black;}#sk-container-id-5 div.sk-toggleable__content {max-height: 0;max-width: 0;overflow: hidden;text-align: left;background-color: #f0f8ff;}#sk-container-id-5 div.sk-toggleable__content pre {margin: 0.2em;color: black;border-radius: 0.25em;background-color: #f0f8ff;}#sk-container-id-5 input.sk-toggleable__control:checked~div.sk-toggleable__content {max-height: 200px;max-width: 100%;overflow: auto;}#sk-container-id-5 input.sk-toggleable__control:checked~label.sk-toggleable__label-arrow:before {content: \"▾\";}#sk-container-id-5 div.sk-estimator input.sk-toggleable__control:checked~label.sk-toggleable__label {background-color: #d4ebff;}#sk-container-id-5 div.sk-label input.sk-toggleable__control:checked~label.sk-toggleable__label {background-color: #d4ebff;}#sk-container-id-5 input.sk-hidden--visually {border: 0;clip: rect(1px 1px 1px 1px);clip: rect(1px, 1px, 1px, 1px);height: 1px;margin: -1px;overflow: hidden;padding: 0;position: absolute;width: 1px;}#sk-container-id-5 div.sk-estimator {font-family: monospace;background-color: #f0f8ff;border: 1px dotted black;border-radius: 0.25em;box-sizing: border-box;margin-bottom: 0.5em;}#sk-container-id-5 div.sk-estimator:hover {background-color: #d4ebff;}#sk-container-id-5 div.sk-parallel-item::after {content: \"\";width: 100%;border-bottom: 1px solid gray;flex-grow: 1;}#sk-container-id-5 div.sk-label:hover label.sk-toggleable__label {background-color: #d4ebff;}#sk-container-id-5 div.sk-serial::before {content: \"\";position: absolute;border-left: 1px solid gray;box-sizing: border-box;top: 0;bottom: 0;left: 50%;z-index: 0;}#sk-container-id-5 div.sk-serial {display: flex;flex-direction: column;align-items: center;background-color: white;padding-right: 0.2em;padding-left: 0.2em;position: relative;}#sk-container-id-5 div.sk-item {position: relative;z-index: 1;}#sk-container-id-5 div.sk-parallel {display: flex;align-items: stretch;justify-content: center;background-color: white;position: relative;}#sk-container-id-5 div.sk-item::before, #sk-container-id-5 div.sk-parallel-item::before {content: \"\";position: absolute;border-left: 1px solid gray;box-sizing: border-box;top: 0;bottom: 0;left: 50%;z-index: -1;}#sk-container-id-5 div.sk-parallel-item {display: flex;flex-direction: column;z-index: 1;position: relative;background-color: white;}#sk-container-id-5 div.sk-parallel-item:first-child::after {align-self: flex-end;width: 50%;}#sk-container-id-5 div.sk-parallel-item:last-child::after {align-self: flex-start;width: 50%;}#sk-container-id-5 div.sk-parallel-item:only-child::after {width: 0;}#sk-container-id-5 div.sk-dashed-wrapped {border: 1px dashed gray;margin: 0 0.4em 0.5em 0.4em;box-sizing: border-box;padding-bottom: 0.4em;background-color: white;}#sk-container-id-5 div.sk-label label {font-family: monospace;font-weight: bold;display: inline-block;line-height: 1.2em;}#sk-container-id-5 div.sk-label-container {text-align: center;}#sk-container-id-5 div.sk-container {/* jupyter's `normalize.less` sets `[hidden] { display: none; }` but bootstrap.min.css set `[hidden] { display: none !important; }` so we also need the `!important` here to be able to override the default hidden behavior on the sphinx rendered scikit-learn.org. See: https://github.com/scikit-learn/scikit-learn/issues/21755 */display: inline-block !important;position: relative;}#sk-container-id-5 div.sk-text-repr-fallback {display: none;}</style><div id=\"sk-container-id-5\" class=\"sk-top-container\"><div class=\"sk-text-repr-fallback\"><pre>Pipeline(steps=[(&#x27;preprocessor&#x27;,\n",
              "                 ColumnTransformer(remainder=&#x27;passthrough&#x27;,\n",
              "                                   transformers=[(&#x27;transform_payment_of_min_amount_column&#x27;,\n",
              "                                                  FunctionTransformer(func=&lt;function transform_payment_of_min_amount_column at 0x7ec2e75f80d0&gt;),\n",
              "                                                  [&#x27;Payment_of_Min_Amount&#x27;]),\n",
              "                                                 (&#x27;transform_payment_behaviour&#x27;,\n",
              "                                                  FunctionTransformer(func=&lt;function transform_payment_behaviour at 0x7ec2e7...\n",
              "                                 grow_policy=None, importance_type=None,\n",
              "                                 interaction_constraints=None, max_bin=None,\n",
              "                                 max_cat_threshold=None, max_cat_to_onehot=None,\n",
              "                                 max_delta_step=None, max_depth=25,\n",
              "                                 max_leaves=None, min_child_weight=None,\n",
              "                                 min_samples_leaf=1, missing=nan,\n",
              "                                 monotone_constraints=None, multi_strategy=None,\n",
              "                                 n_estimators=150, n_jobs=None,\n",
              "                                 num_parallel_tree=None,\n",
              "                                 objective=&#x27;multi:softprob&#x27;, ...))])</pre><b>In a Jupyter environment, please rerun this cell to show the HTML representation or trust the notebook. <br />On GitHub, the HTML representation is unable to render, please try loading this page with nbviewer.org.</b></div><div class=\"sk-container\" hidden><div class=\"sk-item sk-dashed-wrapped\"><div class=\"sk-label-container\"><div class=\"sk-label sk-toggleable\"><input class=\"sk-toggleable__control sk-hidden--visually\" id=\"sk-estimator-id-61\" type=\"checkbox\" ><label for=\"sk-estimator-id-61\" class=\"sk-toggleable__label sk-toggleable__label-arrow\">Pipeline</label><div class=\"sk-toggleable__content\"><pre>Pipeline(steps=[(&#x27;preprocessor&#x27;,\n",
              "                 ColumnTransformer(remainder=&#x27;passthrough&#x27;,\n",
              "                                   transformers=[(&#x27;transform_payment_of_min_amount_column&#x27;,\n",
              "                                                  FunctionTransformer(func=&lt;function transform_payment_of_min_amount_column at 0x7ec2e75f80d0&gt;),\n",
              "                                                  [&#x27;Payment_of_Min_Amount&#x27;]),\n",
              "                                                 (&#x27;transform_payment_behaviour&#x27;,\n",
              "                                                  FunctionTransformer(func=&lt;function transform_payment_behaviour at 0x7ec2e7...\n",
              "                                 grow_policy=None, importance_type=None,\n",
              "                                 interaction_constraints=None, max_bin=None,\n",
              "                                 max_cat_threshold=None, max_cat_to_onehot=None,\n",
              "                                 max_delta_step=None, max_depth=25,\n",
              "                                 max_leaves=None, min_child_weight=None,\n",
              "                                 min_samples_leaf=1, missing=nan,\n",
              "                                 monotone_constraints=None, multi_strategy=None,\n",
              "                                 n_estimators=150, n_jobs=None,\n",
              "                                 num_parallel_tree=None,\n",
              "                                 objective=&#x27;multi:softprob&#x27;, ...))])</pre></div></div></div><div class=\"sk-serial\"><div class=\"sk-item sk-dashed-wrapped\"><div class=\"sk-label-container\"><div class=\"sk-label sk-toggleable\"><input class=\"sk-toggleable__control sk-hidden--visually\" id=\"sk-estimator-id-62\" type=\"checkbox\" ><label for=\"sk-estimator-id-62\" class=\"sk-toggleable__label sk-toggleable__label-arrow\">preprocessor: ColumnTransformer</label><div class=\"sk-toggleable__content\"><pre>ColumnTransformer(remainder=&#x27;passthrough&#x27;,\n",
              "                  transformers=[(&#x27;transform_payment_of_min_amount_column&#x27;,\n",
              "                                 FunctionTransformer(func=&lt;function transform_payment_of_min_amount_column at 0x7ec2e75f80d0&gt;),\n",
              "                                 [&#x27;Payment_of_Min_Amount&#x27;]),\n",
              "                                (&#x27;transform_payment_behaviour&#x27;,\n",
              "                                 FunctionTransformer(func=&lt;function transform_payment_behaviour at 0x7ec2e75fa440&gt;),\n",
              "                                 [&#x27;Payment_Behaviour&#x27;]),...\n",
              "                                 FunctionTransformer(func=&lt;function transform_month at 0x7ec2e75f8700&gt;),\n",
              "                                 [&#x27;Month&#x27;]),\n",
              "                                (&#x27;num&#x27;, MinMaxScaler(),\n",
              "                                 Index([&#x27;Customer_ID&#x27;, &#x27;Age&#x27;, &#x27;Monthly_Inhand_Salary&#x27;, &#x27;Num_Bank_Accounts&#x27;,\n",
              "       &#x27;Num_Credit_Card&#x27;, &#x27;Num_of_Loan&#x27;, &#x27;Delay_from_due_date&#x27;,\n",
              "       &#x27;Changed_Credit_Limit&#x27;, &#x27;Outstanding_Debt&#x27;, &#x27;Credit_History_Age&#x27;],\n",
              "      dtype=&#x27;object&#x27;)),\n",
              "                                (&#x27;ohe&#x27;,\n",
              "                                 OneHotEncoder(drop=&#x27;first&#x27;,\n",
              "                                               sparse_output=False),\n",
              "                                 [&#x27;Occupation&#x27;])],\n",
              "                  verbose_feature_names_out=False)</pre></div></div></div><div class=\"sk-parallel\"><div class=\"sk-parallel-item\"><div class=\"sk-item\"><div class=\"sk-label-container\"><div class=\"sk-label sk-toggleable\"><input class=\"sk-toggleable__control sk-hidden--visually\" id=\"sk-estimator-id-63\" type=\"checkbox\" ><label for=\"sk-estimator-id-63\" class=\"sk-toggleable__label sk-toggleable__label-arrow\">transform_payment_of_min_amount_column</label><div class=\"sk-toggleable__content\"><pre>[&#x27;Payment_of_Min_Amount&#x27;]</pre></div></div></div><div class=\"sk-serial\"><div class=\"sk-item\"><div class=\"sk-estimator sk-toggleable\"><input class=\"sk-toggleable__control sk-hidden--visually\" id=\"sk-estimator-id-64\" type=\"checkbox\" ><label for=\"sk-estimator-id-64\" class=\"sk-toggleable__label sk-toggleable__label-arrow\">FunctionTransformer</label><div class=\"sk-toggleable__content\"><pre>FunctionTransformer(func=&lt;function transform_payment_of_min_amount_column at 0x7ec2e75f80d0&gt;)</pre></div></div></div></div></div></div><div class=\"sk-parallel-item\"><div class=\"sk-item\"><div class=\"sk-label-container\"><div class=\"sk-label sk-toggleable\"><input class=\"sk-toggleable__control sk-hidden--visually\" id=\"sk-estimator-id-65\" type=\"checkbox\" ><label for=\"sk-estimator-id-65\" class=\"sk-toggleable__label sk-toggleable__label-arrow\">transform_payment_behaviour</label><div class=\"sk-toggleable__content\"><pre>[&#x27;Payment_Behaviour&#x27;]</pre></div></div></div><div class=\"sk-serial\"><div class=\"sk-item\"><div class=\"sk-estimator sk-toggleable\"><input class=\"sk-toggleable__control sk-hidden--visually\" id=\"sk-estimator-id-66\" type=\"checkbox\" ><label for=\"sk-estimator-id-66\" class=\"sk-toggleable__label sk-toggleable__label-arrow\">FunctionTransformer</label><div class=\"sk-toggleable__content\"><pre>FunctionTransformer(func=&lt;function transform_payment_behaviour at 0x7ec2e75fa440&gt;)</pre></div></div></div></div></div></div><div class=\"sk-parallel-item\"><div class=\"sk-item\"><div class=\"sk-label-container\"><div class=\"sk-label sk-toggleable\"><input class=\"sk-toggleable__control sk-hidden--visually\" id=\"sk-estimator-id-67\" type=\"checkbox\" ><label for=\"sk-estimator-id-67\" class=\"sk-toggleable__label sk-toggleable__label-arrow\">transform_month</label><div class=\"sk-toggleable__content\"><pre>[&#x27;Month&#x27;]</pre></div></div></div><div class=\"sk-serial\"><div class=\"sk-item\"><div class=\"sk-estimator sk-toggleable\"><input class=\"sk-toggleable__control sk-hidden--visually\" id=\"sk-estimator-id-68\" type=\"checkbox\" ><label for=\"sk-estimator-id-68\" class=\"sk-toggleable__label sk-toggleable__label-arrow\">FunctionTransformer</label><div class=\"sk-toggleable__content\"><pre>FunctionTransformer(func=&lt;function transform_month at 0x7ec2e75f8700&gt;)</pre></div></div></div></div></div></div><div class=\"sk-parallel-item\"><div class=\"sk-item\"><div class=\"sk-label-container\"><div class=\"sk-label sk-toggleable\"><input class=\"sk-toggleable__control sk-hidden--visually\" id=\"sk-estimator-id-69\" type=\"checkbox\" ><label for=\"sk-estimator-id-69\" class=\"sk-toggleable__label sk-toggleable__label-arrow\">num</label><div class=\"sk-toggleable__content\"><pre>Index([&#x27;Customer_ID&#x27;, &#x27;Age&#x27;, &#x27;Monthly_Inhand_Salary&#x27;, &#x27;Num_Bank_Accounts&#x27;,\n",
              "       &#x27;Num_Credit_Card&#x27;, &#x27;Num_of_Loan&#x27;, &#x27;Delay_from_due_date&#x27;,\n",
              "       &#x27;Changed_Credit_Limit&#x27;, &#x27;Outstanding_Debt&#x27;, &#x27;Credit_History_Age&#x27;],\n",
              "      dtype=&#x27;object&#x27;)</pre></div></div></div><div class=\"sk-serial\"><div class=\"sk-item\"><div class=\"sk-estimator sk-toggleable\"><input class=\"sk-toggleable__control sk-hidden--visually\" id=\"sk-estimator-id-70\" type=\"checkbox\" ><label for=\"sk-estimator-id-70\" class=\"sk-toggleable__label sk-toggleable__label-arrow\">MinMaxScaler</label><div class=\"sk-toggleable__content\"><pre>MinMaxScaler()</pre></div></div></div></div></div></div><div class=\"sk-parallel-item\"><div class=\"sk-item\"><div class=\"sk-label-container\"><div class=\"sk-label sk-toggleable\"><input class=\"sk-toggleable__control sk-hidden--visually\" id=\"sk-estimator-id-71\" type=\"checkbox\" ><label for=\"sk-estimator-id-71\" class=\"sk-toggleable__label sk-toggleable__label-arrow\">ohe</label><div class=\"sk-toggleable__content\"><pre>[&#x27;Occupation&#x27;]</pre></div></div></div><div class=\"sk-serial\"><div class=\"sk-item\"><div class=\"sk-estimator sk-toggleable\"><input class=\"sk-toggleable__control sk-hidden--visually\" id=\"sk-estimator-id-72\" type=\"checkbox\" ><label for=\"sk-estimator-id-72\" class=\"sk-toggleable__label sk-toggleable__label-arrow\">OneHotEncoder</label><div class=\"sk-toggleable__content\"><pre>OneHotEncoder(drop=&#x27;first&#x27;, sparse_output=False)</pre></div></div></div></div></div></div><div class=\"sk-parallel-item\"><div class=\"sk-item\"><div class=\"sk-label-container\"><div class=\"sk-label sk-toggleable\"><input class=\"sk-toggleable__control sk-hidden--visually\" id=\"sk-estimator-id-73\" type=\"checkbox\" ><label for=\"sk-estimator-id-73\" class=\"sk-toggleable__label sk-toggleable__label-arrow\">remainder</label><div class=\"sk-toggleable__content\"><pre>[]</pre></div></div></div><div class=\"sk-serial\"><div class=\"sk-item\"><div class=\"sk-estimator sk-toggleable\"><input class=\"sk-toggleable__control sk-hidden--visually\" id=\"sk-estimator-id-74\" type=\"checkbox\" ><label for=\"sk-estimator-id-74\" class=\"sk-toggleable__label sk-toggleable__label-arrow\">passthrough</label><div class=\"sk-toggleable__content\"><pre>passthrough</pre></div></div></div></div></div></div></div></div><div class=\"sk-item\"><div class=\"sk-estimator sk-toggleable\"><input class=\"sk-toggleable__control sk-hidden--visually\" id=\"sk-estimator-id-75\" type=\"checkbox\" ><label for=\"sk-estimator-id-75\" class=\"sk-toggleable__label sk-toggleable__label-arrow\">XGBRFClassifier</label><div class=\"sk-toggleable__content\"><pre>XGBRFClassifier(base_score=None, booster=None, callbacks=None,\n",
              "                colsample_bylevel=None, colsample_bytree=None, criterion=&#x27;mse&#x27;,\n",
              "                device=None, early_stopping_rounds=None,\n",
              "                enable_categorical=False, eval_metric=None, feature_types=None,\n",
              "                gamma=None, grow_policy=None, importance_type=None,\n",
              "                interaction_constraints=None, max_bin=None,\n",
              "                max_cat_threshold=None, max_cat_to_onehot=None,\n",
              "                max_delta_step=None, max_depth=25, max_leaves=None,\n",
              "                min_child_weight=None, min_samples_leaf=1, missing=nan,\n",
              "                monotone_constraints=None, multi_strategy=None,\n",
              "                n_estimators=150, n_jobs=None, num_parallel_tree=None,\n",
              "                objective=&#x27;multi:softprob&#x27;, ...)</pre></div></div></div></div></div></div></div>"
            ]
          },
          "metadata": {},
          "execution_count": 161
        }
      ]
    },
    {
      "cell_type": "code",
      "source": [
        "y_pred=pipeline.predict(x_test)"
      ],
      "metadata": {
        "id": "LUl3idERUmGu"
      },
      "execution_count": 162,
      "outputs": []
    },
    {
      "cell_type": "code",
      "source": [
        "accuracy_score(y_test,y_pred)*100"
      ],
      "metadata": {
        "colab": {
          "base_uri": "https://localhost:8080/"
        },
        "id": "C3QyfJxoZwBg",
        "outputId": "6fcf5d5d-bd21-4805-8e5a-10de2fcf04e3"
      },
      "execution_count": 164,
      "outputs": [
        {
          "output_type": "execute_result",
          "data": {
            "text/plain": [
              "81.89999999999999"
            ]
          },
          "metadata": {},
          "execution_count": 164
        }
      ]
    },
    {
      "cell_type": "code",
      "source": [
        "df.head()"
      ],
      "metadata": {
        "colab": {
          "base_uri": "https://localhost:8080/",
          "height": 226
        },
        "id": "emgh_SAqaTD_",
        "outputId": "4b470ee8-6ea0-428e-c668-bce19504d6a6"
      },
      "execution_count": 79,
      "outputs": [
        {
          "output_type": "execute_result",
          "data": {
            "text/plain": [
              "   Customer_ID     Month   Age Occupation  Monthly_Inhand_Salary  \\\n",
              "0       3392.0   January  23.0  Scientist            1824.843333   \n",
              "1       3392.0  February  23.0  Scientist            1824.843333   \n",
              "2       3392.0     March  24.0  Scientist            1824.843333   \n",
              "3       3392.0     April  23.0  Scientist            1824.843333   \n",
              "4       3392.0       May  23.0  Scientist            1824.843333   \n",
              "\n",
              "   Num_Bank_Accounts  Num_Credit_Card  Num_of_Loan  Delay_from_due_date  \\\n",
              "0                3.0              4.0          4.0                  3.0   \n",
              "1                3.0              4.0          4.0                 -1.0   \n",
              "2                3.0              4.0          4.0                  3.0   \n",
              "3                3.0              4.0          4.0                  5.0   \n",
              "4                3.0              4.0          4.0                  6.0   \n",
              "\n",
              "   Changed_Credit_Limit  Outstanding_Debt  Credit_History_Age  \\\n",
              "0                 11.27            809.98               265.0   \n",
              "1                 11.27            809.98               270.0   \n",
              "2                 11.27            809.98               267.0   \n",
              "3                  6.27            809.98               268.0   \n",
              "4                 11.27            809.98               269.0   \n",
              "\n",
              "  Payment_of_Min_Amount  Payment_Behaviour  Credit_Score  \n",
              "0                    No                4.0           2.0  \n",
              "1                    No                3.0           2.0  \n",
              "2                    No                2.0           2.0  \n",
              "3                    No                1.0           2.0  \n",
              "4                    No                5.0           2.0  "
            ],
            "text/html": [
              "\n",
              "  <div id=\"df-e451978f-9595-4f6f-a266-8b1a8b9c9780\" class=\"colab-df-container\">\n",
              "    <div>\n",
              "<style scoped>\n",
              "    .dataframe tbody tr th:only-of-type {\n",
              "        vertical-align: middle;\n",
              "    }\n",
              "\n",
              "    .dataframe tbody tr th {\n",
              "        vertical-align: top;\n",
              "    }\n",
              "\n",
              "    .dataframe thead th {\n",
              "        text-align: right;\n",
              "    }\n",
              "</style>\n",
              "<table border=\"1\" class=\"dataframe\">\n",
              "  <thead>\n",
              "    <tr style=\"text-align: right;\">\n",
              "      <th></th>\n",
              "      <th>Customer_ID</th>\n",
              "      <th>Month</th>\n",
              "      <th>Age</th>\n",
              "      <th>Occupation</th>\n",
              "      <th>Monthly_Inhand_Salary</th>\n",
              "      <th>Num_Bank_Accounts</th>\n",
              "      <th>Num_Credit_Card</th>\n",
              "      <th>Num_of_Loan</th>\n",
              "      <th>Delay_from_due_date</th>\n",
              "      <th>Changed_Credit_Limit</th>\n",
              "      <th>Outstanding_Debt</th>\n",
              "      <th>Credit_History_Age</th>\n",
              "      <th>Payment_of_Min_Amount</th>\n",
              "      <th>Payment_Behaviour</th>\n",
              "      <th>Credit_Score</th>\n",
              "    </tr>\n",
              "  </thead>\n",
              "  <tbody>\n",
              "    <tr>\n",
              "      <th>0</th>\n",
              "      <td>3392.0</td>\n",
              "      <td>January</td>\n",
              "      <td>23.0</td>\n",
              "      <td>Scientist</td>\n",
              "      <td>1824.843333</td>\n",
              "      <td>3.0</td>\n",
              "      <td>4.0</td>\n",
              "      <td>4.0</td>\n",
              "      <td>3.0</td>\n",
              "      <td>11.27</td>\n",
              "      <td>809.98</td>\n",
              "      <td>265.0</td>\n",
              "      <td>No</td>\n",
              "      <td>4.0</td>\n",
              "      <td>2.0</td>\n",
              "    </tr>\n",
              "    <tr>\n",
              "      <th>1</th>\n",
              "      <td>3392.0</td>\n",
              "      <td>February</td>\n",
              "      <td>23.0</td>\n",
              "      <td>Scientist</td>\n",
              "      <td>1824.843333</td>\n",
              "      <td>3.0</td>\n",
              "      <td>4.0</td>\n",
              "      <td>4.0</td>\n",
              "      <td>-1.0</td>\n",
              "      <td>11.27</td>\n",
              "      <td>809.98</td>\n",
              "      <td>270.0</td>\n",
              "      <td>No</td>\n",
              "      <td>3.0</td>\n",
              "      <td>2.0</td>\n",
              "    </tr>\n",
              "    <tr>\n",
              "      <th>2</th>\n",
              "      <td>3392.0</td>\n",
              "      <td>March</td>\n",
              "      <td>24.0</td>\n",
              "      <td>Scientist</td>\n",
              "      <td>1824.843333</td>\n",
              "      <td>3.0</td>\n",
              "      <td>4.0</td>\n",
              "      <td>4.0</td>\n",
              "      <td>3.0</td>\n",
              "      <td>11.27</td>\n",
              "      <td>809.98</td>\n",
              "      <td>267.0</td>\n",
              "      <td>No</td>\n",
              "      <td>2.0</td>\n",
              "      <td>2.0</td>\n",
              "    </tr>\n",
              "    <tr>\n",
              "      <th>3</th>\n",
              "      <td>3392.0</td>\n",
              "      <td>April</td>\n",
              "      <td>23.0</td>\n",
              "      <td>Scientist</td>\n",
              "      <td>1824.843333</td>\n",
              "      <td>3.0</td>\n",
              "      <td>4.0</td>\n",
              "      <td>4.0</td>\n",
              "      <td>5.0</td>\n",
              "      <td>6.27</td>\n",
              "      <td>809.98</td>\n",
              "      <td>268.0</td>\n",
              "      <td>No</td>\n",
              "      <td>1.0</td>\n",
              "      <td>2.0</td>\n",
              "    </tr>\n",
              "    <tr>\n",
              "      <th>4</th>\n",
              "      <td>3392.0</td>\n",
              "      <td>May</td>\n",
              "      <td>23.0</td>\n",
              "      <td>Scientist</td>\n",
              "      <td>1824.843333</td>\n",
              "      <td>3.0</td>\n",
              "      <td>4.0</td>\n",
              "      <td>4.0</td>\n",
              "      <td>6.0</td>\n",
              "      <td>11.27</td>\n",
              "      <td>809.98</td>\n",
              "      <td>269.0</td>\n",
              "      <td>No</td>\n",
              "      <td>5.0</td>\n",
              "      <td>2.0</td>\n",
              "    </tr>\n",
              "  </tbody>\n",
              "</table>\n",
              "</div>\n",
              "    <div class=\"colab-df-buttons\">\n",
              "\n",
              "  <div class=\"colab-df-container\">\n",
              "    <button class=\"colab-df-convert\" onclick=\"convertToInteractive('df-e451978f-9595-4f6f-a266-8b1a8b9c9780')\"\n",
              "            title=\"Convert this dataframe to an interactive table.\"\n",
              "            style=\"display:none;\">\n",
              "\n",
              "  <svg xmlns=\"http://www.w3.org/2000/svg\" height=\"24px\" viewBox=\"0 -960 960 960\">\n",
              "    <path d=\"M120-120v-720h720v720H120Zm60-500h600v-160H180v160Zm220 220h160v-160H400v160Zm0 220h160v-160H400v160ZM180-400h160v-160H180v160Zm440 0h160v-160H620v160ZM180-180h160v-160H180v160Zm440 0h160v-160H620v160Z\"/>\n",
              "  </svg>\n",
              "    </button>\n",
              "\n",
              "  <style>\n",
              "    .colab-df-container {\n",
              "      display:flex;\n",
              "      gap: 12px;\n",
              "    }\n",
              "\n",
              "    .colab-df-convert {\n",
              "      background-color: #E8F0FE;\n",
              "      border: none;\n",
              "      border-radius: 50%;\n",
              "      cursor: pointer;\n",
              "      display: none;\n",
              "      fill: #1967D2;\n",
              "      height: 32px;\n",
              "      padding: 0 0 0 0;\n",
              "      width: 32px;\n",
              "    }\n",
              "\n",
              "    .colab-df-convert:hover {\n",
              "      background-color: #E2EBFA;\n",
              "      box-shadow: 0px 1px 2px rgba(60, 64, 67, 0.3), 0px 1px 3px 1px rgba(60, 64, 67, 0.15);\n",
              "      fill: #174EA6;\n",
              "    }\n",
              "\n",
              "    .colab-df-buttons div {\n",
              "      margin-bottom: 4px;\n",
              "    }\n",
              "\n",
              "    [theme=dark] .colab-df-convert {\n",
              "      background-color: #3B4455;\n",
              "      fill: #D2E3FC;\n",
              "    }\n",
              "\n",
              "    [theme=dark] .colab-df-convert:hover {\n",
              "      background-color: #434B5C;\n",
              "      box-shadow: 0px 1px 3px 1px rgba(0, 0, 0, 0.15);\n",
              "      filter: drop-shadow(0px 1px 2px rgba(0, 0, 0, 0.3));\n",
              "      fill: #FFFFFF;\n",
              "    }\n",
              "  </style>\n",
              "\n",
              "    <script>\n",
              "      const buttonEl =\n",
              "        document.querySelector('#df-e451978f-9595-4f6f-a266-8b1a8b9c9780 button.colab-df-convert');\n",
              "      buttonEl.style.display =\n",
              "        google.colab.kernel.accessAllowed ? 'block' : 'none';\n",
              "\n",
              "      async function convertToInteractive(key) {\n",
              "        const element = document.querySelector('#df-e451978f-9595-4f6f-a266-8b1a8b9c9780');\n",
              "        const dataTable =\n",
              "          await google.colab.kernel.invokeFunction('convertToInteractive',\n",
              "                                                    [key], {});\n",
              "        if (!dataTable) return;\n",
              "\n",
              "        const docLinkHtml = 'Like what you see? Visit the ' +\n",
              "          '<a target=\"_blank\" href=https://colab.research.google.com/notebooks/data_table.ipynb>data table notebook</a>'\n",
              "          + ' to learn more about interactive tables.';\n",
              "        element.innerHTML = '';\n",
              "        dataTable['output_type'] = 'display_data';\n",
              "        await google.colab.output.renderOutput(dataTable, element);\n",
              "        const docLink = document.createElement('div');\n",
              "        docLink.innerHTML = docLinkHtml;\n",
              "        element.appendChild(docLink);\n",
              "      }\n",
              "    </script>\n",
              "  </div>\n",
              "\n",
              "\n",
              "<div id=\"df-360a8048-ffb1-48f1-bfcf-77ef4ece8e71\">\n",
              "  <button class=\"colab-df-quickchart\" onclick=\"quickchart('df-360a8048-ffb1-48f1-bfcf-77ef4ece8e71')\"\n",
              "            title=\"Suggest charts\"\n",
              "            style=\"display:none;\">\n",
              "\n",
              "<svg xmlns=\"http://www.w3.org/2000/svg\" height=\"24px\"viewBox=\"0 0 24 24\"\n",
              "     width=\"24px\">\n",
              "    <g>\n",
              "        <path d=\"M19 3H5c-1.1 0-2 .9-2 2v14c0 1.1.9 2 2 2h14c1.1 0 2-.9 2-2V5c0-1.1-.9-2-2-2zM9 17H7v-7h2v7zm4 0h-2V7h2v10zm4 0h-2v-4h2v4z\"/>\n",
              "    </g>\n",
              "</svg>\n",
              "  </button>\n",
              "\n",
              "<style>\n",
              "  .colab-df-quickchart {\n",
              "      --bg-color: #E8F0FE;\n",
              "      --fill-color: #1967D2;\n",
              "      --hover-bg-color: #E2EBFA;\n",
              "      --hover-fill-color: #174EA6;\n",
              "      --disabled-fill-color: #AAA;\n",
              "      --disabled-bg-color: #DDD;\n",
              "  }\n",
              "\n",
              "  [theme=dark] .colab-df-quickchart {\n",
              "      --bg-color: #3B4455;\n",
              "      --fill-color: #D2E3FC;\n",
              "      --hover-bg-color: #434B5C;\n",
              "      --hover-fill-color: #FFFFFF;\n",
              "      --disabled-bg-color: #3B4455;\n",
              "      --disabled-fill-color: #666;\n",
              "  }\n",
              "\n",
              "  .colab-df-quickchart {\n",
              "    background-color: var(--bg-color);\n",
              "    border: none;\n",
              "    border-radius: 50%;\n",
              "    cursor: pointer;\n",
              "    display: none;\n",
              "    fill: var(--fill-color);\n",
              "    height: 32px;\n",
              "    padding: 0;\n",
              "    width: 32px;\n",
              "  }\n",
              "\n",
              "  .colab-df-quickchart:hover {\n",
              "    background-color: var(--hover-bg-color);\n",
              "    box-shadow: 0 1px 2px rgba(60, 64, 67, 0.3), 0 1px 3px 1px rgba(60, 64, 67, 0.15);\n",
              "    fill: var(--button-hover-fill-color);\n",
              "  }\n",
              "\n",
              "  .colab-df-quickchart-complete:disabled,\n",
              "  .colab-df-quickchart-complete:disabled:hover {\n",
              "    background-color: var(--disabled-bg-color);\n",
              "    fill: var(--disabled-fill-color);\n",
              "    box-shadow: none;\n",
              "  }\n",
              "\n",
              "  .colab-df-spinner {\n",
              "    border: 2px solid var(--fill-color);\n",
              "    border-color: transparent;\n",
              "    border-bottom-color: var(--fill-color);\n",
              "    animation:\n",
              "      spin 1s steps(1) infinite;\n",
              "  }\n",
              "\n",
              "  @keyframes spin {\n",
              "    0% {\n",
              "      border-color: transparent;\n",
              "      border-bottom-color: var(--fill-color);\n",
              "      border-left-color: var(--fill-color);\n",
              "    }\n",
              "    20% {\n",
              "      border-color: transparent;\n",
              "      border-left-color: var(--fill-color);\n",
              "      border-top-color: var(--fill-color);\n",
              "    }\n",
              "    30% {\n",
              "      border-color: transparent;\n",
              "      border-left-color: var(--fill-color);\n",
              "      border-top-color: var(--fill-color);\n",
              "      border-right-color: var(--fill-color);\n",
              "    }\n",
              "    40% {\n",
              "      border-color: transparent;\n",
              "      border-right-color: var(--fill-color);\n",
              "      border-top-color: var(--fill-color);\n",
              "    }\n",
              "    60% {\n",
              "      border-color: transparent;\n",
              "      border-right-color: var(--fill-color);\n",
              "    }\n",
              "    80% {\n",
              "      border-color: transparent;\n",
              "      border-right-color: var(--fill-color);\n",
              "      border-bottom-color: var(--fill-color);\n",
              "    }\n",
              "    90% {\n",
              "      border-color: transparent;\n",
              "      border-bottom-color: var(--fill-color);\n",
              "    }\n",
              "  }\n",
              "</style>\n",
              "\n",
              "  <script>\n",
              "    async function quickchart(key) {\n",
              "      const quickchartButtonEl =\n",
              "        document.querySelector('#' + key + ' button');\n",
              "      quickchartButtonEl.disabled = true;  // To prevent multiple clicks.\n",
              "      quickchartButtonEl.classList.add('colab-df-spinner');\n",
              "      try {\n",
              "        const charts = await google.colab.kernel.invokeFunction(\n",
              "            'suggestCharts', [key], {});\n",
              "      } catch (error) {\n",
              "        console.error('Error during call to suggestCharts:', error);\n",
              "      }\n",
              "      quickchartButtonEl.classList.remove('colab-df-spinner');\n",
              "      quickchartButtonEl.classList.add('colab-df-quickchart-complete');\n",
              "    }\n",
              "    (() => {\n",
              "      let quickchartButtonEl =\n",
              "        document.querySelector('#df-360a8048-ffb1-48f1-bfcf-77ef4ece8e71 button');\n",
              "      quickchartButtonEl.style.display =\n",
              "        google.colab.kernel.accessAllowed ? 'block' : 'none';\n",
              "    })();\n",
              "  </script>\n",
              "</div>\n",
              "\n",
              "    </div>\n",
              "  </div>\n"
            ]
          },
          "metadata": {},
          "execution_count": 79
        }
      ]
    },
    {
      "cell_type": "code",
      "source": [
        "test=(pd.DataFrame(data=[[3392.0,'April',23.0,'Scientist',1824.843333,\n",
        "                 3.0,4.0,4.0,\n",
        "                 3.0,11.27,809.98,\n",
        "                 265.0,'No',4.0]],\n",
        "                 columns=['Customer_ID', 'Month', 'Age', 'Occupation', 'Monthly_Inhand_Salary',\n",
        "                'Num_Bank_Accounts', 'Num_Credit_Card', 'Num_of_Loan',\n",
        "                'Delay_from_due_date', 'Changed_Credit_Limit', 'Outstanding_Debt',\n",
        "                'Credit_History_Age', 'Payment_of_Min_Amount', 'Payment_Behaviour']))"
      ],
      "metadata": {
        "id": "xDa0hQ-paFb7"
      },
      "execution_count": 165,
      "outputs": []
    },
    {
      "cell_type": "code",
      "source": [
        "test"
      ],
      "metadata": {
        "colab": {
          "base_uri": "https://localhost:8080/",
          "height": 109
        },
        "id": "JxrAUBimayWF",
        "outputId": "4e52ee03-40f5-4f27-f1f6-2efc3a3f73ab"
      },
      "execution_count": 166,
      "outputs": [
        {
          "output_type": "execute_result",
          "data": {
            "text/plain": [
              "   Customer_ID  Month   Age Occupation  Monthly_Inhand_Salary  \\\n",
              "0       3392.0  April  23.0  Scientist            1824.843333   \n",
              "\n",
              "   Num_Bank_Accounts  Num_Credit_Card  Num_of_Loan  Delay_from_due_date  \\\n",
              "0                3.0              4.0          4.0                  3.0   \n",
              "\n",
              "   Changed_Credit_Limit  Outstanding_Debt  Credit_History_Age  \\\n",
              "0                 11.27            809.98               265.0   \n",
              "\n",
              "  Payment_of_Min_Amount  Payment_Behaviour  \n",
              "0                    No                4.0  "
            ],
            "text/html": [
              "\n",
              "  <div id=\"df-9c56d417-a89b-477c-9dac-d0e75ca5e05c\" class=\"colab-df-container\">\n",
              "    <div>\n",
              "<style scoped>\n",
              "    .dataframe tbody tr th:only-of-type {\n",
              "        vertical-align: middle;\n",
              "    }\n",
              "\n",
              "    .dataframe tbody tr th {\n",
              "        vertical-align: top;\n",
              "    }\n",
              "\n",
              "    .dataframe thead th {\n",
              "        text-align: right;\n",
              "    }\n",
              "</style>\n",
              "<table border=\"1\" class=\"dataframe\">\n",
              "  <thead>\n",
              "    <tr style=\"text-align: right;\">\n",
              "      <th></th>\n",
              "      <th>Customer_ID</th>\n",
              "      <th>Month</th>\n",
              "      <th>Age</th>\n",
              "      <th>Occupation</th>\n",
              "      <th>Monthly_Inhand_Salary</th>\n",
              "      <th>Num_Bank_Accounts</th>\n",
              "      <th>Num_Credit_Card</th>\n",
              "      <th>Num_of_Loan</th>\n",
              "      <th>Delay_from_due_date</th>\n",
              "      <th>Changed_Credit_Limit</th>\n",
              "      <th>Outstanding_Debt</th>\n",
              "      <th>Credit_History_Age</th>\n",
              "      <th>Payment_of_Min_Amount</th>\n",
              "      <th>Payment_Behaviour</th>\n",
              "    </tr>\n",
              "  </thead>\n",
              "  <tbody>\n",
              "    <tr>\n",
              "      <th>0</th>\n",
              "      <td>3392.0</td>\n",
              "      <td>April</td>\n",
              "      <td>23.0</td>\n",
              "      <td>Scientist</td>\n",
              "      <td>1824.843333</td>\n",
              "      <td>3.0</td>\n",
              "      <td>4.0</td>\n",
              "      <td>4.0</td>\n",
              "      <td>3.0</td>\n",
              "      <td>11.27</td>\n",
              "      <td>809.98</td>\n",
              "      <td>265.0</td>\n",
              "      <td>No</td>\n",
              "      <td>4.0</td>\n",
              "    </tr>\n",
              "  </tbody>\n",
              "</table>\n",
              "</div>\n",
              "    <div class=\"colab-df-buttons\">\n",
              "\n",
              "  <div class=\"colab-df-container\">\n",
              "    <button class=\"colab-df-convert\" onclick=\"convertToInteractive('df-9c56d417-a89b-477c-9dac-d0e75ca5e05c')\"\n",
              "            title=\"Convert this dataframe to an interactive table.\"\n",
              "            style=\"display:none;\">\n",
              "\n",
              "  <svg xmlns=\"http://www.w3.org/2000/svg\" height=\"24px\" viewBox=\"0 -960 960 960\">\n",
              "    <path d=\"M120-120v-720h720v720H120Zm60-500h600v-160H180v160Zm220 220h160v-160H400v160Zm0 220h160v-160H400v160ZM180-400h160v-160H180v160Zm440 0h160v-160H620v160ZM180-180h160v-160H180v160Zm440 0h160v-160H620v160Z\"/>\n",
              "  </svg>\n",
              "    </button>\n",
              "\n",
              "  <style>\n",
              "    .colab-df-container {\n",
              "      display:flex;\n",
              "      gap: 12px;\n",
              "    }\n",
              "\n",
              "    .colab-df-convert {\n",
              "      background-color: #E8F0FE;\n",
              "      border: none;\n",
              "      border-radius: 50%;\n",
              "      cursor: pointer;\n",
              "      display: none;\n",
              "      fill: #1967D2;\n",
              "      height: 32px;\n",
              "      padding: 0 0 0 0;\n",
              "      width: 32px;\n",
              "    }\n",
              "\n",
              "    .colab-df-convert:hover {\n",
              "      background-color: #E2EBFA;\n",
              "      box-shadow: 0px 1px 2px rgba(60, 64, 67, 0.3), 0px 1px 3px 1px rgba(60, 64, 67, 0.15);\n",
              "      fill: #174EA6;\n",
              "    }\n",
              "\n",
              "    .colab-df-buttons div {\n",
              "      margin-bottom: 4px;\n",
              "    }\n",
              "\n",
              "    [theme=dark] .colab-df-convert {\n",
              "      background-color: #3B4455;\n",
              "      fill: #D2E3FC;\n",
              "    }\n",
              "\n",
              "    [theme=dark] .colab-df-convert:hover {\n",
              "      background-color: #434B5C;\n",
              "      box-shadow: 0px 1px 3px 1px rgba(0, 0, 0, 0.15);\n",
              "      filter: drop-shadow(0px 1px 2px rgba(0, 0, 0, 0.3));\n",
              "      fill: #FFFFFF;\n",
              "    }\n",
              "  </style>\n",
              "\n",
              "    <script>\n",
              "      const buttonEl =\n",
              "        document.querySelector('#df-9c56d417-a89b-477c-9dac-d0e75ca5e05c button.colab-df-convert');\n",
              "      buttonEl.style.display =\n",
              "        google.colab.kernel.accessAllowed ? 'block' : 'none';\n",
              "\n",
              "      async function convertToInteractive(key) {\n",
              "        const element = document.querySelector('#df-9c56d417-a89b-477c-9dac-d0e75ca5e05c');\n",
              "        const dataTable =\n",
              "          await google.colab.kernel.invokeFunction('convertToInteractive',\n",
              "                                                    [key], {});\n",
              "        if (!dataTable) return;\n",
              "\n",
              "        const docLinkHtml = 'Like what you see? Visit the ' +\n",
              "          '<a target=\"_blank\" href=https://colab.research.google.com/notebooks/data_table.ipynb>data table notebook</a>'\n",
              "          + ' to learn more about interactive tables.';\n",
              "        element.innerHTML = '';\n",
              "        dataTable['output_type'] = 'display_data';\n",
              "        await google.colab.output.renderOutput(dataTable, element);\n",
              "        const docLink = document.createElement('div');\n",
              "        docLink.innerHTML = docLinkHtml;\n",
              "        element.appendChild(docLink);\n",
              "      }\n",
              "    </script>\n",
              "  </div>\n",
              "\n",
              "\n",
              "  <div id=\"id_82930b78-9164-403c-9a28-d634a388855a\">\n",
              "    <style>\n",
              "      .colab-df-generate {\n",
              "        background-color: #E8F0FE;\n",
              "        border: none;\n",
              "        border-radius: 50%;\n",
              "        cursor: pointer;\n",
              "        display: none;\n",
              "        fill: #1967D2;\n",
              "        height: 32px;\n",
              "        padding: 0 0 0 0;\n",
              "        width: 32px;\n",
              "      }\n",
              "\n",
              "      .colab-df-generate:hover {\n",
              "        background-color: #E2EBFA;\n",
              "        box-shadow: 0px 1px 2px rgba(60, 64, 67, 0.3), 0px 1px 3px 1px rgba(60, 64, 67, 0.15);\n",
              "        fill: #174EA6;\n",
              "      }\n",
              "\n",
              "      [theme=dark] .colab-df-generate {\n",
              "        background-color: #3B4455;\n",
              "        fill: #D2E3FC;\n",
              "      }\n",
              "\n",
              "      [theme=dark] .colab-df-generate:hover {\n",
              "        background-color: #434B5C;\n",
              "        box-shadow: 0px 1px 3px 1px rgba(0, 0, 0, 0.15);\n",
              "        filter: drop-shadow(0px 1px 2px rgba(0, 0, 0, 0.3));\n",
              "        fill: #FFFFFF;\n",
              "      }\n",
              "    </style>\n",
              "    <button class=\"colab-df-generate\" onclick=\"generateWithVariable('test')\"\n",
              "            title=\"Generate code using this dataframe.\"\n",
              "            style=\"display:none;\">\n",
              "\n",
              "  <svg xmlns=\"http://www.w3.org/2000/svg\" height=\"24px\"viewBox=\"0 0 24 24\"\n",
              "       width=\"24px\">\n",
              "    <path d=\"M7,19H8.4L18.45,9,17,7.55,7,17.6ZM5,21V16.75L18.45,3.32a2,2,0,0,1,2.83,0l1.4,1.43a1.91,1.91,0,0,1,.58,1.4,1.91,1.91,0,0,1-.58,1.4L9.25,21ZM18.45,9,17,7.55Zm-12,3A5.31,5.31,0,0,0,4.9,8.1,5.31,5.31,0,0,0,1,6.5,5.31,5.31,0,0,0,4.9,4.9,5.31,5.31,0,0,0,6.5,1,5.31,5.31,0,0,0,8.1,4.9,5.31,5.31,0,0,0,12,6.5,5.46,5.46,0,0,0,6.5,12Z\"/>\n",
              "  </svg>\n",
              "    </button>\n",
              "    <script>\n",
              "      (() => {\n",
              "      const buttonEl =\n",
              "        document.querySelector('#id_82930b78-9164-403c-9a28-d634a388855a button.colab-df-generate');\n",
              "      buttonEl.style.display =\n",
              "        google.colab.kernel.accessAllowed ? 'block' : 'none';\n",
              "\n",
              "      buttonEl.onclick = () => {\n",
              "        google.colab.notebook.generateWithVariable('test');\n",
              "      }\n",
              "      })();\n",
              "    </script>\n",
              "  </div>\n",
              "\n",
              "    </div>\n",
              "  </div>\n"
            ]
          },
          "metadata": {},
          "execution_count": 166
        }
      ]
    },
    {
      "cell_type": "code",
      "source": [
        "pipeline.predict(test)"
      ],
      "metadata": {
        "colab": {
          "base_uri": "https://localhost:8080/"
        },
        "id": "qPHs9QM6azep",
        "outputId": "22fd2bc6-8f38-40cc-d249-b0e0ac8684fc"
      },
      "execution_count": 167,
      "outputs": [
        {
          "output_type": "execute_result",
          "data": {
            "text/plain": [
              "array([2])"
            ]
          },
          "metadata": {},
          "execution_count": 167
        }
      ]
    },
    {
      "cell_type": "code",
      "source": [
        "import joblib\n",
        "import pickle\n",
        "with open('pipeline1.pkl', 'wb') as f:\n",
        "    pickle.dump(pipeline, f)"
      ],
      "metadata": {
        "id": "S4bEAVfna3-B"
      },
      "execution_count": 168,
      "outputs": []
    },
    {
      "cell_type": "code",
      "source": [],
      "metadata": {
        "id": "irHBiJk5nfUh"
      },
      "execution_count": null,
      "outputs": []
    }
  ],
  "metadata": {
    "colab": {
      "provenance": []
    },
    "kernelspec": {
      "display_name": "Python 3",
      "name": "python3"
    },
    "language_info": {
      "name": "python"
    }
  },
  "nbformat": 4,
  "nbformat_minor": 0
}